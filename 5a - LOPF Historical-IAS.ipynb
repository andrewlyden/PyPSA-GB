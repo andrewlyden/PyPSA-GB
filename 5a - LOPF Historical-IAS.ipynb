{
 "cells": [
  {
   "cell_type": "markdown",
   "metadata": {},
   "source": [
    "# Historical Network Constrained Linear Optimal Power Flow"
   ]
  },
  {
   "cell_type": "markdown",
   "metadata": {},
   "source": [
    "PyPSA-GB can model the GB power system  by solving a network constrained Linear Optimal Power Flow (LOPF) problem. This notebook shows the example application of a historical 3 day period."
   ]
  },
  {
   "cell_type": "code",
   "execution_count": 3,
   "metadata": {},
   "outputs": [],
   "source": [
    "import os\n",
    "from dotenv import find_dotenv, load_dotenv\n",
    "\n",
    "load_dotenv(find_dotenv())\n",
    "src_path = os.environ.get('PROJECT_SRC')\n",
    "os.chdir(src_path)"
   ]
  },
  {
   "cell_type": "code",
   "execution_count": 4,
   "metadata": {},
   "outputs": [],
   "source": [
    "import pypsa\n",
    "import matplotlib.pyplot as plt\n",
    "import numpy as np\n",
    "import pandas as pd\n",
    "import cartopy.crs as ccrs\n",
    "\n",
    "import data_reader_writer"
   ]
  },
  {
   "cell_type": "markdown",
   "metadata": {},
   "source": [
    "## Setting up simulation"
   ]
  },
  {
   "cell_type": "markdown",
   "metadata": {},
   "source": [
    "Set the required inputs for the LOPF: the start, end and year of simulation, and the timestep."
   ]
  },
  {
   "cell_type": "code",
   "execution_count": 5,
   "metadata": {},
   "outputs": [],
   "source": [
    "# write csv files for import\n",
    "start = '2019-12-01 00:00:00'\n",
    "end = '2019-12-03 23:30:00'\n",
    "# year of simulation\n",
    "year = 2019\n",
    "# time step as fraction of hour\n",
    "time_step = 0.5"
   ]
  },
  {
   "cell_type": "markdown",
   "metadata": {},
   "source": [
    "data_reader_writer is a script written to read in data from the various sources and write csv files in the format required for populating a PyPSA network object"
   ]
  },
  {
   "cell_type": "code",
   "execution_count": 6,
   "metadata": {},
   "outputs": [
    {
     "name": "stderr",
     "output_type": "stream",
     "text": [
      "C:\\Users\\s1100626\\Anaconda3\\envs\\PyPSA-GB\\lib\\site-packages\\pandas\\core\\indexing.py:1667: PerformanceWarning: DataFrame is highly fragmented.  This is usually the result of calling `frame.insert` many times, which has poor performance.  Consider joining all columns at once using pd.concat(axis=1) instead.  To get a de-fragmented frame, use `newframe = frame.copy()`\n",
      "  self.obj[key] = value\n"
     ]
    }
   ],
   "source": [
    "data_reader_writer.data_writer(start, end, time_step, year, merge_generators=True)"
   ]
  },
  {
   "cell_type": "code",
   "execution_count": 7,
   "metadata": {},
   "outputs": [
    {
     "name": "stderr",
     "output_type": "stream",
     "text": [
      "WARNING:pypsa.io:\n",
      "Importing PyPSA from older version of PyPSA than current version.\n",
      "Please read the release notes at https://pypsa.readthedocs.io/en/latest/release_notes.html\n",
      "carefully to prepare your network for import.\n",
      "Currently used PyPSA version [0, 19, 2], imported network file PyPSA version None.\n",
      "\n",
      "INFO:pypsa.components:Applying weightings to all columns of `snapshot_weightings`\n",
      "INFO:pypsa.io:Imported network LOPF_data has buses, generators, lines, loads, storage_units\n"
     ]
    }
   ],
   "source": [
    "network = pypsa.Network()\n",
    "\n",
    "network.import_from_csv_folder('LOPF_data')"
   ]
  },
  {
   "cell_type": "markdown",
   "metadata": {},
   "source": [
    "To approximate n-1 security and allow room for reactive power flows, don't allow any line to be loaded above 70% of their thermal rating"
   ]
  },
  {
   "cell_type": "code",
   "execution_count": 8,
   "metadata": {},
   "outputs": [],
   "source": [
    "contingency_factor = 0.7\n",
    "network.lines.s_max_pu[0:99] *= contingency_factor"
   ]
  },
  {
   "cell_type": "markdown",
   "metadata": {},
   "source": [
    "## Running the optimisation"
   ]
  },
  {
   "cell_type": "code",
   "execution_count": 9,
   "metadata": {},
   "outputs": [
    {
     "name": "stderr",
     "output_type": "stream",
     "text": [
      "INFO:pypsa.linopf:Prepare linear problem\n",
      "INFO:pypsa.linopf:Total preparation time: 2.03s\n",
      "INFO:pypsa.linopf:Solve linear problem using Gurobi solver\n"
     ]
    },
    {
     "name": "stdout",
     "output_type": "stream",
     "text": [
      "Set parameter Username\n",
      "Academic license - for non-commercial use only - expires 2022-05-19\n",
      "Read LP format model from file C:\\Users\\s1100626\\AppData\\Local\\Temp\\pypsa-problem-y8xp1_b8.lp\n",
      "Reading time = 1.07 seconds\n",
      "obj: 462242 rows, 120385 columns, 816192 nonzeros\n",
      "Gurobi Optimizer version 9.5.1 build v9.5.1rc2 (win64)\n",
      "Thread count: 4 physical cores, 8 logical processors, using up to 8 threads\n",
      "Optimize a model with 462242 rows, 120385 columns and 816192 nonzeros\n",
      "Model fingerprint: 0x2c9b7550\n",
      "Coefficient statistics:\n",
      "  Matrix range     [6e-05, 1e+00]\n",
      "  Objective range  [1e+00, 6e+01]\n",
      "  Bounds range     [0e+00, 0e+00]\n",
      "  RHS range        [1e-06, 9e+03]\n",
      "\n",
      "Concurrent LP optimizer: dual simplex and barrier\n",
      "Showing barrier log only...\n",
      "\n",
      "Presolve removed 454360 rows and 98431 columns\n",
      "Presolve time: 0.43s\n",
      "Presolved: 7882 rows, 23098 columns, 46663 nonzeros\n",
      "\n",
      "Ordering time: 0.00s\n",
      "\n",
      "Barrier statistics:\n",
      " AA' NZ     : 2.870e+04\n",
      " Factor NZ  : 1.471e+05 (roughly 14 MB of memory)\n",
      " Factor Ops : 3.808e+06 (less than 1 second per iteration)\n",
      " Threads    : 3\n",
      "\n",
      "                  Objective                Residual\n",
      "Iter       Primal          Dual         Primal    Dual     Compl     Time\n",
      "   0   3.78354083e+09 -1.04731271e+10  5.70e+04 6.56e+00  1.50e+06     0s\n",
      "   1   7.61198994e+08 -4.19077215e+09  1.03e+04 9.95e-14  2.84e+05     0s\n",
      "   2   1.75284036e+08 -1.06669016e+09  1.22e+03 6.34e-12  4.30e+04     0s\n",
      "   3   9.75219355e+07 -7.09051048e+07  5.96e+01 8.46e-13  4.08e+03     1s\n",
      "   4   8.52083970e+07  4.23446147e+07  1.86e+01 1.56e-13  9.71e+02     1s\n",
      "   5   7.90874142e+07  5.84994257e+07  9.10e+00 7.11e-14  4.54e+02     1s\n",
      "   6   7.55654874e+07  6.53259423e+07  4.89e+00 3.55e-14  2.23e+02     1s\n",
      "   7   7.38247697e+07  6.83550545e+07  2.94e+00 3.55e-14  1.18e+02     1s\n",
      "   8   7.27396674e+07  6.99424595e+07  1.77e+00 5.68e-14  6.00e+01     1s\n",
      "   9   7.20128448e+07  7.03600405e+07  1.00e+00 3.77e-14  3.54e+01     1s\n",
      "  10   7.16825874e+07  7.07905119e+07  6.56e-01 3.46e-14  1.90e+01     1s\n",
      "  11   7.14480439e+07  7.08825903e+07  4.12e-01 2.84e-14  1.21e+01     1s\n",
      "  12   7.13030990e+07  7.09708288e+07  2.59e-01 5.68e-14  7.08e+00     1s\n",
      "  13   7.12026127e+07  7.10088379e+07  1.53e-01 5.68e-14  4.13e+00     1s\n",
      "  14   7.11254183e+07  7.10325295e+07  7.21e-02 2.84e-14  1.98e+00     1s\n",
      "  15   7.11046357e+07  7.10427026e+07  5.15e-02 2.84e-14  1.32e+00     1s\n",
      "  16   7.10882783e+07  7.10505390e+07  3.51e-02 3.09e-14  8.01e-01     1s\n",
      "  17   7.10706935e+07  7.10527585e+07  1.65e-02 3.32e-14  3.81e-01     1s\n",
      "  18   7.10621969e+07  7.10544228e+07  7.46e-03 4.14e-14  1.65e-01     1s\n",
      "  19   7.10565681e+07  7.10547605e+07  1.53e-03 3.66e-14  3.85e-02     1s\n",
      "  20   7.10555268e+07  7.10550080e+07  4.92e-04 3.75e-14  1.10e-02     1s\n",
      "  21   7.10550442e+07  7.10550231e+07  1.81e-05 3.86e-14  4.48e-04     1s\n",
      "  22   7.10550249e+07  7.10550248e+07  9.09e-09 5.20e-12  1.47e-06     1s\n",
      "  23   7.10550249e+07  7.10550249e+07  4.37e-10 3.35e-14  1.47e-09     1s\n",
      "\n",
      "Barrier solved model in 23 iterations and 0.71 seconds (0.51 work units)\n",
      "Optimal objective 7.10550249e+07\n",
      "\n",
      "Crossover log...\n",
      "\n",
      "    1251 DPushes remaining with DInf 0.0000000e+00                 1s\n",
      "       0 DPushes remaining with DInf 0.0000000e+00                 1s\n",
      "\n",
      "    3728 PPushes remaining with PInf 0.0000000e+00                 1s\n",
      "       0 PPushes remaining with PInf 0.0000000e+00                 1s\n",
      "\n",
      "  Push phase complete: Pinf 0.0000000e+00, Dinf 1.5557056e-11      1s\n",
      "\n",
      "Iteration    Objective       Primal Inf.    Dual Inf.      Time\n",
      "    3867    7.1055025e+07   0.000000e+00   0.000000e+00      1s\n",
      "\n",
      "Solved with dual simplex\n",
      "Solved in 6758 iterations and 1.06 seconds (0.65 work units)\n",
      "Optimal objective  7.105502486e+07\n"
     ]
    },
    {
     "name": "stderr",
     "output_type": "stream",
     "text": [
      "INFO:pypsa.linopf:Optimization successful. Objective value: 7.11e+07\n"
     ]
    },
    {
     "data": {
      "text/plain": [
       "('ok', 'optimal')"
      ]
     },
     "execution_count": 9,
     "metadata": {},
     "output_type": "execute_result"
    }
   ],
   "source": [
    "network.lopf(network.snapshots, solver_name=\"gurobi\", pyomo=False)"
   ]
  },
  {
   "cell_type": "markdown",
   "metadata": {},
   "source": [
    "## Power output by generation type"
   ]
  },
  {
   "cell_type": "markdown",
   "metadata": {},
   "source": [
    "Group the generators by the carrier, and print their summed power outputs over the simulation period."
   ]
  },
  {
   "cell_type": "code",
   "execution_count": 10,
   "metadata": {},
   "outputs": [
    {
     "data": {
      "text/html": [
       "<div>\n",
       "<style scoped>\n",
       "    .dataframe tbody tr th:only-of-type {\n",
       "        vertical-align: middle;\n",
       "    }\n",
       "\n",
       "    .dataframe tbody tr th {\n",
       "        vertical-align: top;\n",
       "    }\n",
       "\n",
       "    .dataframe thead th {\n",
       "        text-align: right;\n",
       "    }\n",
       "</style>\n",
       "<table border=\"1\" class=\"dataframe\">\n",
       "  <thead>\n",
       "    <tr style=\"text-align: right;\">\n",
       "      <th>carrier</th>\n",
       "      <th>Anaerobic Digestion</th>\n",
       "      <th>Biomass (co-firing)</th>\n",
       "      <th>Biomass (dedicated)</th>\n",
       "      <th>Coal</th>\n",
       "      <th>EfW Incineration</th>\n",
       "      <th>Interconnectors Import</th>\n",
       "      <th>Landfill Gas</th>\n",
       "      <th>Hydro</th>\n",
       "      <th>Natural Gas</th>\n",
       "      <th>Nuclear</th>\n",
       "      <th>Oil</th>\n",
       "      <th>Sewage Sludge Digestion</th>\n",
       "      <th>Shoreline Wave</th>\n",
       "      <th>Small Hydro</th>\n",
       "      <th>Solar Photovoltaics</th>\n",
       "      <th>Tidal Barrage and Tidal Stream</th>\n",
       "      <th>Wind Offshore</th>\n",
       "      <th>Wind Onshore</th>\n",
       "      <th>Pumped Storage Hydroelectric</th>\n",
       "      <th>Biomass</th>\n",
       "    </tr>\n",
       "    <tr>\n",
       "      <th>snapshot</th>\n",
       "      <th></th>\n",
       "      <th></th>\n",
       "      <th></th>\n",
       "      <th></th>\n",
       "      <th></th>\n",
       "      <th></th>\n",
       "      <th></th>\n",
       "      <th></th>\n",
       "      <th></th>\n",
       "      <th></th>\n",
       "      <th></th>\n",
       "      <th></th>\n",
       "      <th></th>\n",
       "      <th></th>\n",
       "      <th></th>\n",
       "      <th></th>\n",
       "      <th></th>\n",
       "      <th></th>\n",
       "      <th></th>\n",
       "      <th></th>\n",
       "    </tr>\n",
       "  </thead>\n",
       "  <tbody>\n",
       "    <tr>\n",
       "      <th>2019-12-01 00:00:00</th>\n",
       "      <td>317.6</td>\n",
       "      <td>0.0</td>\n",
       "      <td>0.000</td>\n",
       "      <td>0.0</td>\n",
       "      <td>450.072</td>\n",
       "      <td>3996.000109</td>\n",
       "      <td>743.5</td>\n",
       "      <td>283.227800</td>\n",
       "      <td>12379.843579</td>\n",
       "      <td>6799.22</td>\n",
       "      <td>0.0</td>\n",
       "      <td>50.2</td>\n",
       "      <td>24.0</td>\n",
       "      <td>36.772199</td>\n",
       "      <td>0.0</td>\n",
       "      <td>10.5</td>\n",
       "      <td>2638.214991</td>\n",
       "      <td>1048.849282</td>\n",
       "      <td>2468.000000</td>\n",
       "      <td>1111.300</td>\n",
       "    </tr>\n",
       "    <tr>\n",
       "      <th>2019-12-01 00:30:00</th>\n",
       "      <td>317.6</td>\n",
       "      <td>0.0</td>\n",
       "      <td>0.000</td>\n",
       "      <td>0.0</td>\n",
       "      <td>450.072</td>\n",
       "      <td>3997.000108</td>\n",
       "      <td>743.5</td>\n",
       "      <td>281.457627</td>\n",
       "      <td>11570.625592</td>\n",
       "      <td>6799.22</td>\n",
       "      <td>0.0</td>\n",
       "      <td>50.2</td>\n",
       "      <td>24.0</td>\n",
       "      <td>36.542372</td>\n",
       "      <td>0.0</td>\n",
       "      <td>10.5</td>\n",
       "      <td>2526.737364</td>\n",
       "      <td>1082.545109</td>\n",
       "      <td>2468.000000</td>\n",
       "      <td>1111.300</td>\n",
       "    </tr>\n",
       "    <tr>\n",
       "      <th>2019-12-01 01:00:00</th>\n",
       "      <td>317.6</td>\n",
       "      <td>0.0</td>\n",
       "      <td>0.000</td>\n",
       "      <td>0.0</td>\n",
       "      <td>450.072</td>\n",
       "      <td>3997.000108</td>\n",
       "      <td>743.5</td>\n",
       "      <td>280.572540</td>\n",
       "      <td>11274.063209</td>\n",
       "      <td>6799.22</td>\n",
       "      <td>0.0</td>\n",
       "      <td>50.2</td>\n",
       "      <td>24.0</td>\n",
       "      <td>36.427459</td>\n",
       "      <td>0.0</td>\n",
       "      <td>10.5</td>\n",
       "      <td>2482.670493</td>\n",
       "      <td>1095.174159</td>\n",
       "      <td>2468.000000</td>\n",
       "      <td>1111.300</td>\n",
       "    </tr>\n",
       "    <tr>\n",
       "      <th>2019-12-01 01:30:00</th>\n",
       "      <td>317.6</td>\n",
       "      <td>0.0</td>\n",
       "      <td>0.000</td>\n",
       "      <td>0.0</td>\n",
       "      <td>450.072</td>\n",
       "      <td>3998.000128</td>\n",
       "      <td>743.5</td>\n",
       "      <td>280.572540</td>\n",
       "      <td>12897.538197</td>\n",
       "      <td>6799.22</td>\n",
       "      <td>0.0</td>\n",
       "      <td>50.2</td>\n",
       "      <td>24.0</td>\n",
       "      <td>36.427459</td>\n",
       "      <td>0.0</td>\n",
       "      <td>10.5</td>\n",
       "      <td>2505.758841</td>\n",
       "      <td>1101.611089</td>\n",
       "      <td>740.000000</td>\n",
       "      <td>1111.300</td>\n",
       "    </tr>\n",
       "    <tr>\n",
       "      <th>2019-12-01 02:00:00</th>\n",
       "      <td>317.6</td>\n",
       "      <td>0.0</td>\n",
       "      <td>0.000</td>\n",
       "      <td>0.0</td>\n",
       "      <td>450.072</td>\n",
       "      <td>3998.000128</td>\n",
       "      <td>743.5</td>\n",
       "      <td>271.721673</td>\n",
       "      <td>12560.343575</td>\n",
       "      <td>6799.22</td>\n",
       "      <td>0.0</td>\n",
       "      <td>50.2</td>\n",
       "      <td>24.0</td>\n",
       "      <td>35.278329</td>\n",
       "      <td>0.0</td>\n",
       "      <td>10.5</td>\n",
       "      <td>2530.801553</td>\n",
       "      <td>1120.762632</td>\n",
       "      <td>740.000000</td>\n",
       "      <td>1111.300</td>\n",
       "    </tr>\n",
       "    <tr>\n",
       "      <th>...</th>\n",
       "      <td>...</td>\n",
       "      <td>...</td>\n",
       "      <td>...</td>\n",
       "      <td>...</td>\n",
       "      <td>...</td>\n",
       "      <td>...</td>\n",
       "      <td>...</td>\n",
       "      <td>...</td>\n",
       "      <td>...</td>\n",
       "      <td>...</td>\n",
       "      <td>...</td>\n",
       "      <td>...</td>\n",
       "      <td>...</td>\n",
       "      <td>...</td>\n",
       "      <td>...</td>\n",
       "      <td>...</td>\n",
       "      <td>...</td>\n",
       "      <td>...</td>\n",
       "      <td>...</td>\n",
       "      <td>...</td>\n",
       "    </tr>\n",
       "    <tr>\n",
       "      <th>2019-12-03 21:30:00</th>\n",
       "      <td>315.6</td>\n",
       "      <td>0.0</td>\n",
       "      <td>0.000</td>\n",
       "      <td>0.0</td>\n",
       "      <td>450.072</td>\n",
       "      <td>2462.999973</td>\n",
       "      <td>743.5</td>\n",
       "      <td>167.760899</td>\n",
       "      <td>23446.460289</td>\n",
       "      <td>6799.22</td>\n",
       "      <td>0.0</td>\n",
       "      <td>50.2</td>\n",
       "      <td>23.0</td>\n",
       "      <td>22.414454</td>\n",
       "      <td>0.0</td>\n",
       "      <td>10.5</td>\n",
       "      <td>2173.181209</td>\n",
       "      <td>4958.626267</td>\n",
       "      <td>839.465130</td>\n",
       "      <td>1109.300</td>\n",
       "    </tr>\n",
       "    <tr>\n",
       "      <th>2019-12-03 22:00:00</th>\n",
       "      <td>315.6</td>\n",
       "      <td>0.0</td>\n",
       "      <td>0.000</td>\n",
       "      <td>0.0</td>\n",
       "      <td>450.072</td>\n",
       "      <td>2158.999995</td>\n",
       "      <td>743.5</td>\n",
       "      <td>183.713623</td>\n",
       "      <td>21323.146074</td>\n",
       "      <td>6799.22</td>\n",
       "      <td>0.0</td>\n",
       "      <td>50.2</td>\n",
       "      <td>23.0</td>\n",
       "      <td>24.545891</td>\n",
       "      <td>0.0</td>\n",
       "      <td>10.5</td>\n",
       "      <td>2093.402637</td>\n",
       "      <td>4905.467416</td>\n",
       "      <td>1445.632954</td>\n",
       "      <td>1109.300</td>\n",
       "    </tr>\n",
       "    <tr>\n",
       "      <th>2019-12-03 22:30:00</th>\n",
       "      <td>307.4</td>\n",
       "      <td>0.0</td>\n",
       "      <td>72.708</td>\n",
       "      <td>0.0</td>\n",
       "      <td>450.072</td>\n",
       "      <td>2049.000000</td>\n",
       "      <td>717.4</td>\n",
       "      <td>218.192090</td>\n",
       "      <td>18545.072991</td>\n",
       "      <td>6783.92</td>\n",
       "      <td>0.0</td>\n",
       "      <td>50.2</td>\n",
       "      <td>23.0</td>\n",
       "      <td>22.282487</td>\n",
       "      <td>0.0</td>\n",
       "      <td>10.5</td>\n",
       "      <td>2090.567636</td>\n",
       "      <td>4853.950187</td>\n",
       "      <td>2095.734709</td>\n",
       "      <td>1147.708</td>\n",
       "    </tr>\n",
       "    <tr>\n",
       "      <th>2019-12-03 23:00:00</th>\n",
       "      <td>307.4</td>\n",
       "      <td>0.0</td>\n",
       "      <td>72.708</td>\n",
       "      <td>0.0</td>\n",
       "      <td>450.072</td>\n",
       "      <td>2111.000005</td>\n",
       "      <td>717.4</td>\n",
       "      <td>125.871442</td>\n",
       "      <td>17519.185635</td>\n",
       "      <td>6768.62</td>\n",
       "      <td>0.0</td>\n",
       "      <td>50.2</td>\n",
       "      <td>23.0</td>\n",
       "      <td>16.816971</td>\n",
       "      <td>0.0</td>\n",
       "      <td>10.5</td>\n",
       "      <td>2164.676210</td>\n",
       "      <td>4728.348767</td>\n",
       "      <td>2104.200909</td>\n",
       "      <td>1147.708</td>\n",
       "    </tr>\n",
       "    <tr>\n",
       "      <th>2019-12-03 23:30:00</th>\n",
       "      <td>315.6</td>\n",
       "      <td>0.0</td>\n",
       "      <td>72.708</td>\n",
       "      <td>0.0</td>\n",
       "      <td>450.072</td>\n",
       "      <td>1975.000035</td>\n",
       "      <td>743.5</td>\n",
       "      <td>165.187880</td>\n",
       "      <td>16037.253074</td>\n",
       "      <td>6753.32</td>\n",
       "      <td>0.0</td>\n",
       "      <td>50.2</td>\n",
       "      <td>23.0</td>\n",
       "      <td>21.660057</td>\n",
       "      <td>0.0</td>\n",
       "      <td>10.5</td>\n",
       "      <td>2164.676210</td>\n",
       "      <td>4556.875303</td>\n",
       "      <td>2097.447298</td>\n",
       "      <td>1182.008</td>\n",
       "    </tr>\n",
       "  </tbody>\n",
       "</table>\n",
       "<p>144 rows × 20 columns</p>\n",
       "</div>"
      ],
      "text/plain": [
       "carrier              Anaerobic Digestion  Biomass (co-firing)  \\\n",
       "snapshot                                                        \n",
       "2019-12-01 00:00:00                317.6                  0.0   \n",
       "2019-12-01 00:30:00                317.6                  0.0   \n",
       "2019-12-01 01:00:00                317.6                  0.0   \n",
       "2019-12-01 01:30:00                317.6                  0.0   \n",
       "2019-12-01 02:00:00                317.6                  0.0   \n",
       "...                                  ...                  ...   \n",
       "2019-12-03 21:30:00                315.6                  0.0   \n",
       "2019-12-03 22:00:00                315.6                  0.0   \n",
       "2019-12-03 22:30:00                307.4                  0.0   \n",
       "2019-12-03 23:00:00                307.4                  0.0   \n",
       "2019-12-03 23:30:00                315.6                  0.0   \n",
       "\n",
       "carrier              Biomass (dedicated)  Coal  EfW Incineration  \\\n",
       "snapshot                                                           \n",
       "2019-12-01 00:00:00                0.000   0.0           450.072   \n",
       "2019-12-01 00:30:00                0.000   0.0           450.072   \n",
       "2019-12-01 01:00:00                0.000   0.0           450.072   \n",
       "2019-12-01 01:30:00                0.000   0.0           450.072   \n",
       "2019-12-01 02:00:00                0.000   0.0           450.072   \n",
       "...                                  ...   ...               ...   \n",
       "2019-12-03 21:30:00                0.000   0.0           450.072   \n",
       "2019-12-03 22:00:00                0.000   0.0           450.072   \n",
       "2019-12-03 22:30:00               72.708   0.0           450.072   \n",
       "2019-12-03 23:00:00               72.708   0.0           450.072   \n",
       "2019-12-03 23:30:00               72.708   0.0           450.072   \n",
       "\n",
       "carrier              Interconnectors Import  Landfill Gas       Hydro  \\\n",
       "snapshot                                                                \n",
       "2019-12-01 00:00:00             3996.000109         743.5  283.227800   \n",
       "2019-12-01 00:30:00             3997.000108         743.5  281.457627   \n",
       "2019-12-01 01:00:00             3997.000108         743.5  280.572540   \n",
       "2019-12-01 01:30:00             3998.000128         743.5  280.572540   \n",
       "2019-12-01 02:00:00             3998.000128         743.5  271.721673   \n",
       "...                                     ...           ...         ...   \n",
       "2019-12-03 21:30:00             2462.999973         743.5  167.760899   \n",
       "2019-12-03 22:00:00             2158.999995         743.5  183.713623   \n",
       "2019-12-03 22:30:00             2049.000000         717.4  218.192090   \n",
       "2019-12-03 23:00:00             2111.000005         717.4  125.871442   \n",
       "2019-12-03 23:30:00             1975.000035         743.5  165.187880   \n",
       "\n",
       "carrier               Natural Gas  Nuclear  Oil  Sewage Sludge Digestion  \\\n",
       "snapshot                                                                   \n",
       "2019-12-01 00:00:00  12379.843579  6799.22  0.0                     50.2   \n",
       "2019-12-01 00:30:00  11570.625592  6799.22  0.0                     50.2   \n",
       "2019-12-01 01:00:00  11274.063209  6799.22  0.0                     50.2   \n",
       "2019-12-01 01:30:00  12897.538197  6799.22  0.0                     50.2   \n",
       "2019-12-01 02:00:00  12560.343575  6799.22  0.0                     50.2   \n",
       "...                           ...      ...  ...                      ...   \n",
       "2019-12-03 21:30:00  23446.460289  6799.22  0.0                     50.2   \n",
       "2019-12-03 22:00:00  21323.146074  6799.22  0.0                     50.2   \n",
       "2019-12-03 22:30:00  18545.072991  6783.92  0.0                     50.2   \n",
       "2019-12-03 23:00:00  17519.185635  6768.62  0.0                     50.2   \n",
       "2019-12-03 23:30:00  16037.253074  6753.32  0.0                     50.2   \n",
       "\n",
       "carrier              Shoreline Wave  Small Hydro  Solar Photovoltaics  \\\n",
       "snapshot                                                                \n",
       "2019-12-01 00:00:00            24.0    36.772199                  0.0   \n",
       "2019-12-01 00:30:00            24.0    36.542372                  0.0   \n",
       "2019-12-01 01:00:00            24.0    36.427459                  0.0   \n",
       "2019-12-01 01:30:00            24.0    36.427459                  0.0   \n",
       "2019-12-01 02:00:00            24.0    35.278329                  0.0   \n",
       "...                             ...          ...                  ...   \n",
       "2019-12-03 21:30:00            23.0    22.414454                  0.0   \n",
       "2019-12-03 22:00:00            23.0    24.545891                  0.0   \n",
       "2019-12-03 22:30:00            23.0    22.282487                  0.0   \n",
       "2019-12-03 23:00:00            23.0    16.816971                  0.0   \n",
       "2019-12-03 23:30:00            23.0    21.660057                  0.0   \n",
       "\n",
       "carrier              Tidal Barrage and Tidal Stream  Wind Offshore  \\\n",
       "snapshot                                                             \n",
       "2019-12-01 00:00:00                            10.5    2638.214991   \n",
       "2019-12-01 00:30:00                            10.5    2526.737364   \n",
       "2019-12-01 01:00:00                            10.5    2482.670493   \n",
       "2019-12-01 01:30:00                            10.5    2505.758841   \n",
       "2019-12-01 02:00:00                            10.5    2530.801553   \n",
       "...                                             ...            ...   \n",
       "2019-12-03 21:30:00                            10.5    2173.181209   \n",
       "2019-12-03 22:00:00                            10.5    2093.402637   \n",
       "2019-12-03 22:30:00                            10.5    2090.567636   \n",
       "2019-12-03 23:00:00                            10.5    2164.676210   \n",
       "2019-12-03 23:30:00                            10.5    2164.676210   \n",
       "\n",
       "carrier              Wind Onshore  Pumped Storage Hydroelectric   Biomass  \n",
       "snapshot                                                                   \n",
       "2019-12-01 00:00:00   1048.849282                   2468.000000  1111.300  \n",
       "2019-12-01 00:30:00   1082.545109                   2468.000000  1111.300  \n",
       "2019-12-01 01:00:00   1095.174159                   2468.000000  1111.300  \n",
       "2019-12-01 01:30:00   1101.611089                    740.000000  1111.300  \n",
       "2019-12-01 02:00:00   1120.762632                    740.000000  1111.300  \n",
       "...                           ...                           ...       ...  \n",
       "2019-12-03 21:30:00   4958.626267                    839.465130  1109.300  \n",
       "2019-12-03 22:00:00   4905.467416                   1445.632954  1109.300  \n",
       "2019-12-03 22:30:00   4853.950187                   2095.734709  1147.708  \n",
       "2019-12-03 23:00:00   4728.348767                   2104.200909  1147.708  \n",
       "2019-12-03 23:30:00   4556.875303                   2097.447298  1182.008  \n",
       "\n",
       "[144 rows x 20 columns]"
      ]
     },
     "execution_count": 10,
     "metadata": {},
     "output_type": "execute_result"
    }
   ],
   "source": [
    "p_by_carrier = network.generators_t.p.groupby(\n",
    "    network.generators.carrier, axis=1).sum()\n",
    "\n",
    "storage_by_carrier = network.storage_units_t.p.groupby(\n",
    "    network.storage_units.carrier, axis=1).sum()\n",
    "\n",
    "# to show on graph set the negative storage values to zero\n",
    "storage_by_carrier[storage_by_carrier < 0] = 0\n",
    "\n",
    "p_by_carrier = pd.concat([p_by_carrier, storage_by_carrier], axis=1)\n",
    "\n",
    "# interconnector exports\n",
    "exports = network.loads_t.p\n",
    "# multiply by negative one to convert it as a generator\n",
    "# i.e. export is a positive load, but negative generator\n",
    "exports['Interconnectors Export'] = exports.iloc[:, -6:].sum(axis=1) * -1\n",
    "interconnector_export = exports[['Interconnectors Export']]\n",
    "\n",
    "# group biomass stuff\n",
    "p_by_carrier['Biomass'] = (\n",
    "    p_by_carrier['Biomass (dedicated)'] + p_by_carrier['Biomass (co-firing)'] +\n",
    "    p_by_carrier['Landfill Gas'] + p_by_carrier['Anaerobic Digestion'] +\n",
    "    p_by_carrier['Sewage Sludge Digestion'])\n",
    "\n",
    "# rename the hydro bit\n",
    "p_by_carrier = p_by_carrier.rename(\n",
    "    columns={'Large Hydro': 'Hydro'})\n",
    "p_by_carrier = p_by_carrier.rename(\n",
    "    columns={'Interconnector': 'Interconnectors Import'})\n",
    "\n",
    "p_by_carrier"
   ]
  },
  {
   "cell_type": "code",
   "execution_count": 11,
   "metadata": {},
   "outputs": [],
   "source": [
    "network_generators = network.generators\n",
    "\n",
    "network_generators.to_csv('network_generators.csv')"
   ]
  },
  {
   "cell_type": "markdown",
   "metadata": {},
   "source": [
    "Graph the power output of the different generation types..."
   ]
  },
  {
   "cell_type": "code",
   "execution_count": 71,
   "metadata": {},
   "outputs": [
    {
     "ename": "KeyError",
     "evalue": "\"['Shoreline Wave', 'Coal', 'Oil'] not in index\"",
     "output_type": "error",
     "traceback": [
      "\u001b[1;31m---------------------------------------------------------------------------\u001b[0m",
      "\u001b[1;31mKeyError\u001b[0m                                  Traceback (most recent call last)",
      "Input \u001b[1;32mIn [71]\u001b[0m, in \u001b[0;36m<cell line: 8>\u001b[1;34m()\u001b[0m\n\u001b[0;32m      1\u001b[0m cols \u001b[38;5;241m=\u001b[39m [\u001b[38;5;124m\"\u001b[39m\u001b[38;5;124mNuclear\u001b[39m\u001b[38;5;124m\"\u001b[39m, \u001b[38;5;124m'\u001b[39m\u001b[38;5;124mShoreline Wave\u001b[39m\u001b[38;5;124m'\u001b[39m, \u001b[38;5;124m'\u001b[39m\u001b[38;5;124mBiomass\u001b[39m\u001b[38;5;124m'\u001b[39m,\n\u001b[0;32m      2\u001b[0m         \u001b[38;5;124m'\u001b[39m\u001b[38;5;124mEfW Incineration\u001b[39m\u001b[38;5;124m'\u001b[39m,\n\u001b[0;32m      3\u001b[0m         \u001b[38;5;124m\"\u001b[39m\u001b[38;5;124mCoal\u001b[39m\u001b[38;5;124m\"\u001b[39m, \u001b[38;5;124m\"\u001b[39m\u001b[38;5;124mOil\u001b[39m\u001b[38;5;124m\"\u001b[39m, \u001b[38;5;124m\"\u001b[39m\u001b[38;5;124mNatural Gas\u001b[39m\u001b[38;5;124m\"\u001b[39m,\n\u001b[0;32m      4\u001b[0m         \u001b[38;5;124m\"\u001b[39m\u001b[38;5;124mPumped Storage Hydroelectric\u001b[39m\u001b[38;5;124m\"\u001b[39m, \u001b[38;5;124m'\u001b[39m\u001b[38;5;124mHydro\u001b[39m\u001b[38;5;124m'\u001b[39m,\n\u001b[0;32m      5\u001b[0m         \u001b[38;5;124m\"\u001b[39m\u001b[38;5;124mWind Offshore\u001b[39m\u001b[38;5;124m\"\u001b[39m, \u001b[38;5;124m'\u001b[39m\u001b[38;5;124mWind Onshore\u001b[39m\u001b[38;5;124m'\u001b[39m, \u001b[38;5;124m'\u001b[39m\u001b[38;5;124mSolar Photovoltaics\u001b[39m\u001b[38;5;124m'\u001b[39m,\n\u001b[0;32m      6\u001b[0m         \u001b[38;5;124m'\u001b[39m\u001b[38;5;124mInterconnectors Import\u001b[39m\u001b[38;5;124m'\u001b[39m]\n\u001b[1;32m----> 8\u001b[0m p_by_carrier \u001b[38;5;241m=\u001b[39m \u001b[43mp_by_carrier\u001b[49m\u001b[43m[\u001b[49m\u001b[43mcols\u001b[49m\u001b[43m]\u001b[49m\n\u001b[0;32m     10\u001b[0m p_by_carrier\u001b[38;5;241m.\u001b[39mdrop(\n\u001b[0;32m     11\u001b[0m     (p_by_carrier\u001b[38;5;241m.\u001b[39mmax()[p_by_carrier\u001b[38;5;241m.\u001b[39mmax() \u001b[38;5;241m<\u001b[39m \u001b[38;5;241m50.0\u001b[39m])\u001b[38;5;241m.\u001b[39mindex,\n\u001b[0;32m     12\u001b[0m     axis\u001b[38;5;241m=\u001b[39m\u001b[38;5;241m1\u001b[39m, inplace\u001b[38;5;241m=\u001b[39m\u001b[38;5;28;01mTrue\u001b[39;00m)\n\u001b[0;32m     15\u001b[0m colors \u001b[38;5;241m=\u001b[39m {\u001b[38;5;124m\"\u001b[39m\u001b[38;5;124mCoal\u001b[39m\u001b[38;5;124m\"\u001b[39m: \u001b[38;5;124m\"\u001b[39m\u001b[38;5;124mgrey\u001b[39m\u001b[38;5;124m\"\u001b[39m,\n\u001b[0;32m     16\u001b[0m           \u001b[38;5;124m\"\u001b[39m\u001b[38;5;124mDiesel/gas oil\u001b[39m\u001b[38;5;124m\"\u001b[39m: \u001b[38;5;124m\"\u001b[39m\u001b[38;5;124mblack\u001b[39m\u001b[38;5;124m\"\u001b[39m,\n\u001b[0;32m     17\u001b[0m           \u001b[38;5;124m\"\u001b[39m\u001b[38;5;124mDiesel/Gas oil\u001b[39m\u001b[38;5;124m\"\u001b[39m: \u001b[38;5;124m\"\u001b[39m\u001b[38;5;124mblack\u001b[39m\u001b[38;5;124m\"\u001b[39m,\n\u001b[1;32m   (...)\u001b[0m\n\u001b[0;32m     38\u001b[0m           \u001b[38;5;124m'\u001b[39m\u001b[38;5;124mWind Onshore\u001b[39m\u001b[38;5;124m'\u001b[39m: \u001b[38;5;124m'\u001b[39m\u001b[38;5;124mdeepskyblue\u001b[39m\u001b[38;5;124m'\u001b[39m,\n\u001b[0;32m     39\u001b[0m           \u001b[38;5;124m'\u001b[39m\u001b[38;5;124mSolar Photovoltaics\u001b[39m\u001b[38;5;124m'\u001b[39m: \u001b[38;5;124m'\u001b[39m\u001b[38;5;124myellow\u001b[39m\u001b[38;5;124m'\u001b[39m}\n",
      "File \u001b[1;32m~\\Anaconda3\\envs\\PyPSA-GB\\lib\\site-packages\\pandas\\core\\frame.py:3461\u001b[0m, in \u001b[0;36mDataFrame.__getitem__\u001b[1;34m(self, key)\u001b[0m\n\u001b[0;32m   3459\u001b[0m     \u001b[38;5;28;01mif\u001b[39;00m is_iterator(key):\n\u001b[0;32m   3460\u001b[0m         key \u001b[38;5;241m=\u001b[39m \u001b[38;5;28mlist\u001b[39m(key)\n\u001b[1;32m-> 3461\u001b[0m     indexer \u001b[38;5;241m=\u001b[39m \u001b[38;5;28;43mself\u001b[39;49m\u001b[38;5;241;43m.\u001b[39;49m\u001b[43mloc\u001b[49m\u001b[38;5;241;43m.\u001b[39;49m\u001b[43m_get_listlike_indexer\u001b[49m\u001b[43m(\u001b[49m\u001b[43mkey\u001b[49m\u001b[43m,\u001b[49m\u001b[43m \u001b[49m\u001b[43maxis\u001b[49m\u001b[38;5;241;43m=\u001b[39;49m\u001b[38;5;241;43m1\u001b[39;49m\u001b[43m)\u001b[49m[\u001b[38;5;241m1\u001b[39m]\n\u001b[0;32m   3463\u001b[0m \u001b[38;5;66;03m# take() does not accept boolean indexers\u001b[39;00m\n\u001b[0;32m   3464\u001b[0m \u001b[38;5;28;01mif\u001b[39;00m \u001b[38;5;28mgetattr\u001b[39m(indexer, \u001b[38;5;124m\"\u001b[39m\u001b[38;5;124mdtype\u001b[39m\u001b[38;5;124m\"\u001b[39m, \u001b[38;5;28;01mNone\u001b[39;00m) \u001b[38;5;241m==\u001b[39m \u001b[38;5;28mbool\u001b[39m:\n",
      "File \u001b[1;32m~\\Anaconda3\\envs\\PyPSA-GB\\lib\\site-packages\\pandas\\core\\indexing.py:1314\u001b[0m, in \u001b[0;36m_LocIndexer._get_listlike_indexer\u001b[1;34m(self, key, axis)\u001b[0m\n\u001b[0;32m   1311\u001b[0m \u001b[38;5;28;01melse\u001b[39;00m:\n\u001b[0;32m   1312\u001b[0m     keyarr, indexer, new_indexer \u001b[38;5;241m=\u001b[39m ax\u001b[38;5;241m.\u001b[39m_reindex_non_unique(keyarr)\n\u001b[1;32m-> 1314\u001b[0m \u001b[38;5;28;43mself\u001b[39;49m\u001b[38;5;241;43m.\u001b[39;49m\u001b[43m_validate_read_indexer\u001b[49m\u001b[43m(\u001b[49m\u001b[43mkeyarr\u001b[49m\u001b[43m,\u001b[49m\u001b[43m \u001b[49m\u001b[43mindexer\u001b[49m\u001b[43m,\u001b[49m\u001b[43m \u001b[49m\u001b[43maxis\u001b[49m\u001b[43m)\u001b[49m\n\u001b[0;32m   1316\u001b[0m \u001b[38;5;28;01mif\u001b[39;00m needs_i8_conversion(ax\u001b[38;5;241m.\u001b[39mdtype) \u001b[38;5;129;01mor\u001b[39;00m \u001b[38;5;28misinstance\u001b[39m(\n\u001b[0;32m   1317\u001b[0m     ax, (IntervalIndex, CategoricalIndex)\n\u001b[0;32m   1318\u001b[0m ):\n\u001b[0;32m   1319\u001b[0m     \u001b[38;5;66;03m# For CategoricalIndex take instead of reindex to preserve dtype.\u001b[39;00m\n\u001b[0;32m   1320\u001b[0m     \u001b[38;5;66;03m#  For IntervalIndex this is to map integers to the Intervals they match to.\u001b[39;00m\n\u001b[0;32m   1321\u001b[0m     keyarr \u001b[38;5;241m=\u001b[39m ax\u001b[38;5;241m.\u001b[39mtake(indexer)\n",
      "File \u001b[1;32m~\\Anaconda3\\envs\\PyPSA-GB\\lib\\site-packages\\pandas\\core\\indexing.py:1377\u001b[0m, in \u001b[0;36m_LocIndexer._validate_read_indexer\u001b[1;34m(self, key, indexer, axis)\u001b[0m\n\u001b[0;32m   1374\u001b[0m     \u001b[38;5;28;01mraise\u001b[39;00m \u001b[38;5;167;01mKeyError\u001b[39;00m(\u001b[38;5;124mf\u001b[39m\u001b[38;5;124m\"\u001b[39m\u001b[38;5;124mNone of [\u001b[39m\u001b[38;5;132;01m{\u001b[39;00mkey\u001b[38;5;132;01m}\u001b[39;00m\u001b[38;5;124m] are in the [\u001b[39m\u001b[38;5;132;01m{\u001b[39;00maxis_name\u001b[38;5;132;01m}\u001b[39;00m\u001b[38;5;124m]\u001b[39m\u001b[38;5;124m\"\u001b[39m)\n\u001b[0;32m   1376\u001b[0m not_found \u001b[38;5;241m=\u001b[39m \u001b[38;5;28mlist\u001b[39m(ensure_index(key)[missing_mask\u001b[38;5;241m.\u001b[39mnonzero()[\u001b[38;5;241m0\u001b[39m]]\u001b[38;5;241m.\u001b[39munique())\n\u001b[1;32m-> 1377\u001b[0m \u001b[38;5;28;01mraise\u001b[39;00m \u001b[38;5;167;01mKeyError\u001b[39;00m(\u001b[38;5;124mf\u001b[39m\u001b[38;5;124m\"\u001b[39m\u001b[38;5;132;01m{\u001b[39;00mnot_found\u001b[38;5;132;01m}\u001b[39;00m\u001b[38;5;124m not in index\u001b[39m\u001b[38;5;124m\"\u001b[39m)\n",
      "\u001b[1;31mKeyError\u001b[0m: \"['Shoreline Wave', 'Coal', 'Oil'] not in index\""
     ]
    }
   ],
   "source": [
    "cols = [\"Nuclear\", 'Shoreline Wave', 'Biomass',\n",
    "        'EfW Incineration',\n",
    "        \"Coal\", \"Oil\", \"Natural Gas\",\n",
    "        \"Pumped Storage Hydroelectric\", 'Hydro',\n",
    "        \"Wind Offshore\", 'Wind Onshore', 'Solar Photovoltaics',\n",
    "        'Interconnectors Import']\n",
    "\n",
    "p_by_carrier = p_by_carrier[cols]\n",
    "\n",
    "p_by_carrier.drop(\n",
    "    (p_by_carrier.max()[p_by_carrier.max() < 50.0]).index,\n",
    "    axis=1, inplace=True)\n",
    "\n",
    "\n",
    "colors = {\"Coal\": \"grey\",\n",
    "          \"Diesel/gas oil\": \"black\",\n",
    "          \"Diesel/Gas oil\": \"black\",\n",
    "          \"Diesel/gas Diesel/Gas oil\": \"black\",\n",
    "          'Oil': 'black',\n",
    "          'Anaerobic Digestion': 'green',\n",
    "          'EfW Incineration': 'chocolate',\n",
    "          'Sewage Sludge Digestion': 'green',\n",
    "          'Landfill Gas': 'green',\n",
    "          'Biomass (dedicated)': 'green',\n",
    "          'Biomass (co-firing)': 'green',\n",
    "          'Biomass': 'green',\n",
    "          'Interconnectors Import': 'pink',\n",
    "          \"Sour gas\": \"lightcoral\",\n",
    "          \"Natural Gas\": \"lightcoral\",\n",
    "          \"Nuclear\": \"orange\",\n",
    "          'Shoreline Wave': 'aqua',\n",
    "          'Tidal Barrage and Tidal Stream': 'aqua',\n",
    "          'Hydro': \"turquoise\",\n",
    "          \"Large Hydro\": \"turquoise\",\n",
    "          \"Small Hydro\": \"turquoise\",\n",
    "          \"Pumped Storage Hydroelectric\": \"darkturquoise\",\n",
    "          \"Wind Offshore\": \"lightskyblue\",\n",
    "          'Wind Onshore': 'deepskyblue',\n",
    "          'Solar Photovoltaics': 'yellow'}\n",
    "\n",
    "fig, ax = plt.subplots(1, 1)\n",
    "fig.set_size_inches(15,10)\n",
    "(p_by_carrier / 1e3).plot(\n",
    "    kind=\"area\", ax=ax, linewidth=0,\n",
    "    color=[colors[col] for col in p_by_carrier.columns])\n",
    "\n",
    "# stacked area plot of negative values, prepend column names with '_' such that they don't appear in the legend\n",
    "(interconnector_export / 1e3).plot.area(ax=ax, stacked=True, linewidth=0.)\n",
    "# rescale the y axis\n",
    "ax.set_ylim([(interconnector_export / 1e3).sum(axis=1).min(), (p_by_carrier / 1e3).sum(axis=1).max()])\n",
    "\n",
    "# Shrink current axis's height by 10% on the bottom\n",
    "box = ax.get_position()\n",
    "ax.set_position([box.x0, box.y0 + box.height * 0.1,\n",
    "                 box.width, box.height * 0.9])\n",
    "\n",
    "# Put a legend below current axis\n",
    "ax.legend(loc='upper center', bbox_to_anchor=(0.5, -0.05),\n",
    "          fancybox=True, shadow=True, ncol=5)\n",
    "\n",
    "ax.set_ylabel(\"GW\")\n",
    "\n",
    "ax.set_xlabel(\"\")"
   ]
  },
  {
   "cell_type": "markdown",
   "metadata": {},
   "source": [
    "## Calculating emissions"
   ]
  },
  {
   "cell_type": "markdown",
   "metadata": {},
   "source": [
    "This section containts the prototype cells for calculating emissions from the hourly generation mix."
   ]
  },
  {
   "cell_type": "code",
   "execution_count": 13,
   "metadata": {},
   "outputs": [],
   "source": [
    "# arrange p_by_carrier columns into alphabetical order to ensure consistency with EI factors\n",
    "\n",
    "p_by_carrier = p_by_carrier[sorted(p_by_carrier.columns)]"
   ]
  },
  {
   "cell_type": "code",
   "execution_count": 14,
   "metadata": {},
   "outputs": [],
   "source": [
    "# create a numpy array from a list of generation carriers, from top row of generation mix dataframe\n",
    "carriers = np.asarray(list(p_by_carrier.columns.values))\n",
    "\n",
    "# print(carriers)\n",
    "# type(carriers)"
   ]
  },
  {
   "cell_type": "code",
   "execution_count": 15,
   "metadata": {},
   "outputs": [],
   "source": [
    "# create a dataframe of emissions intensity data by reading in the emissions intensity data contained in relevant .csv\n",
    "emissions_intensity = pd.read_csv('prototype_emissions.csv')\n",
    "\n",
    "# print(emissions_intensity)\n",
    "# type(emissions_intensity)"
   ]
  },
  {
   "cell_type": "code",
   "execution_count": 16,
   "metadata": {},
   "outputs": [
    {
     "data": {
      "text/html": [
       "<div>\n",
       "<style scoped>\n",
       "    .dataframe tbody tr th:only-of-type {\n",
       "        vertical-align: middle;\n",
       "    }\n",
       "\n",
       "    .dataframe tbody tr th {\n",
       "        vertical-align: top;\n",
       "    }\n",
       "\n",
       "    .dataframe thead th {\n",
       "        text-align: right;\n",
       "    }\n",
       "</style>\n",
       "<table border=\"1\" class=\"dataframe\">\n",
       "  <thead>\n",
       "    <tr style=\"text-align: right;\">\n",
       "      <th></th>\n",
       "      <th>Carrier</th>\n",
       "      <th>Emissions Intensity [gCO2/kWh]</th>\n",
       "    </tr>\n",
       "  </thead>\n",
       "  <tbody>\n",
       "    <tr>\n",
       "      <th>0</th>\n",
       "      <td>Anaerobic Digestion</td>\n",
       "      <td>354</td>\n",
       "    </tr>\n",
       "    <tr>\n",
       "      <th>1</th>\n",
       "      <td>Biomass</td>\n",
       "      <td>120</td>\n",
       "    </tr>\n",
       "    <tr>\n",
       "      <th>2</th>\n",
       "      <td>Biomass (co-firing)</td>\n",
       "      <td>120</td>\n",
       "    </tr>\n",
       "    <tr>\n",
       "      <th>3</th>\n",
       "      <td>Biomass (dedicated)</td>\n",
       "      <td>120</td>\n",
       "    </tr>\n",
       "    <tr>\n",
       "      <th>20</th>\n",
       "      <td>CCGT</td>\n",
       "      <td>394</td>\n",
       "    </tr>\n",
       "    <tr>\n",
       "      <th>4</th>\n",
       "      <td>Coal</td>\n",
       "      <td>937</td>\n",
       "    </tr>\n",
       "    <tr>\n",
       "      <th>21</th>\n",
       "      <td>Diesel/gas oil</td>\n",
       "      <td>300</td>\n",
       "    </tr>\n",
       "    <tr>\n",
       "      <th>5</th>\n",
       "      <td>EfW Incineration</td>\n",
       "      <td>300</td>\n",
       "    </tr>\n",
       "    <tr>\n",
       "      <th>6</th>\n",
       "      <td>Hydro</td>\n",
       "      <td>0</td>\n",
       "    </tr>\n",
       "    <tr>\n",
       "      <th>7</th>\n",
       "      <td>Interconnectors Import</td>\n",
       "      <td>171</td>\n",
       "    </tr>\n",
       "    <tr>\n",
       "      <th>8</th>\n",
       "      <td>Landfill Gas</td>\n",
       "      <td>300</td>\n",
       "    </tr>\n",
       "    <tr>\n",
       "      <th>9</th>\n",
       "      <td>Natural Gas</td>\n",
       "      <td>394</td>\n",
       "    </tr>\n",
       "    <tr>\n",
       "      <th>10</th>\n",
       "      <td>Nuclear</td>\n",
       "      <td>0</td>\n",
       "    </tr>\n",
       "    <tr>\n",
       "      <th>11</th>\n",
       "      <td>Oil</td>\n",
       "      <td>935</td>\n",
       "    </tr>\n",
       "    <tr>\n",
       "      <th>12</th>\n",
       "      <td>Pumped Storage Hydroelectric</td>\n",
       "      <td>0</td>\n",
       "    </tr>\n",
       "    <tr>\n",
       "      <th>13</th>\n",
       "      <td>Sewage Sludge Digestion</td>\n",
       "      <td>300</td>\n",
       "    </tr>\n",
       "    <tr>\n",
       "      <th>14</th>\n",
       "      <td>Shoreline Wave</td>\n",
       "      <td>0</td>\n",
       "    </tr>\n",
       "    <tr>\n",
       "      <th>15</th>\n",
       "      <td>Small Hydro</td>\n",
       "      <td>0</td>\n",
       "    </tr>\n",
       "    <tr>\n",
       "      <th>16</th>\n",
       "      <td>Solar Photovoltaics</td>\n",
       "      <td>0</td>\n",
       "    </tr>\n",
       "    <tr>\n",
       "      <th>17</th>\n",
       "      <td>Tidal Barrage and Tidal Stream</td>\n",
       "      <td>0</td>\n",
       "    </tr>\n",
       "    <tr>\n",
       "      <th>18</th>\n",
       "      <td>Wind Offshore</td>\n",
       "      <td>0</td>\n",
       "    </tr>\n",
       "    <tr>\n",
       "      <th>19</th>\n",
       "      <td>Wind Onshore</td>\n",
       "      <td>0</td>\n",
       "    </tr>\n",
       "  </tbody>\n",
       "</table>\n",
       "</div>"
      ],
      "text/plain": [
       "                           Carrier  Emissions Intensity [gCO2/kWh]\n",
       "0              Anaerobic Digestion                             354\n",
       "1                          Biomass                             120\n",
       "2              Biomass (co-firing)                             120\n",
       "3              Biomass (dedicated)                             120\n",
       "20                            CCGT                             394\n",
       "4                             Coal                             937\n",
       "21                  Diesel/gas oil                             300\n",
       "5                 EfW Incineration                             300\n",
       "6                            Hydro                               0\n",
       "7           Interconnectors Import                             171\n",
       "8                     Landfill Gas                             300\n",
       "9                      Natural Gas                             394\n",
       "10                         Nuclear                               0\n",
       "11                             Oil                             935\n",
       "12    Pumped Storage Hydroelectric                               0\n",
       "13         Sewage Sludge Digestion                             300\n",
       "14                  Shoreline Wave                               0\n",
       "15                     Small Hydro                               0\n",
       "16             Solar Photovoltaics                               0\n",
       "17  Tidal Barrage and Tidal Stream                               0\n",
       "18                   Wind Offshore                               0\n",
       "19                    Wind Onshore                               0"
      ]
     },
     "execution_count": 16,
     "metadata": {},
     "output_type": "execute_result"
    }
   ],
   "source": [
    "# remove the generation carriers that are not present in the generation mix, from the emissions intensity dataframe\n",
    "emissions_intensity_LOPF = emissions_intensity[emissions_intensity['Carrier'].isin(carriers)]\n",
    "\n",
    "# Sort emissions intensity dataframe alphabetically by Carrier to ensure consistency with generation mix dataframe\n",
    "emissions_intensity.sort_values('Carrier')\n",
    "\n",
    "# print(emissions_intensity_LOPF)\n",
    "# type(emissions_intensity_LOPF)"
   ]
  },
  {
   "cell_type": "code",
   "execution_count": 17,
   "metadata": {},
   "outputs": [],
   "source": [
    "# Create a numpy array of only the emissions intensity (EI) factors from the emissions intensity dataframe\n",
    "EI_factors = emissions_intensity_LOPF['Emissions Intensity [gCO2/kWh]'].to_numpy()\n",
    "\n",
    "# print(EI_factors)\n",
    "# type(EI_factors)"
   ]
  },
  {
   "cell_type": "code",
   "execution_count": 18,
   "metadata": {},
   "outputs": [],
   "source": [
    "# Create energy generation mix dataframe by multiplying power generation mix by the time step [MWh]\n",
    "E_by_carrier = p_by_carrier.multiply(time_step)\n",
    "\n",
    "# print(E_by_carrier)"
   ]
  },
  {
   "cell_type": "code",
   "execution_count": 19,
   "metadata": {},
   "outputs": [],
   "source": [
    "# Create emissions dataframe. Multiply all columns in the energy dataframe by the numpy array of emissions intensity factors\n",
    "Emit_by_carrier = E_by_carrier.multiply(EI_factors, axis=1)\n",
    "\n",
    "# print(Emit_by_carrier)"
   ]
  },
  {
   "cell_type": "code",
   "execution_count": 20,
   "metadata": {},
   "outputs": [],
   "source": [
    "# Convert gCO2/kWh * MWh to teCO2; the quotient of kWh:MWh (1e3) and gCO2:teCO2 (1e6) = 1e3\n",
    "Emit_by_carrier_te = Emit_by_carrier.div(1e3)\n",
    "\n",
    "# print(Emit_by_carrier_te)"
   ]
  },
  {
   "cell_type": "code",
   "execution_count": 68,
   "metadata": {
    "scrolled": true
   },
   "outputs": [
    {
     "ename": "KeyError",
     "evalue": "'CCGT'",
     "output_type": "error",
     "traceback": [
      "\u001b[1;31m---------------------------------------------------------------------------\u001b[0m",
      "\u001b[1;31mKeyError\u001b[0m                                  Traceback (most recent call last)",
      "Input \u001b[1;32mIn [68]\u001b[0m, in \u001b[0;36m<cell line: 6>\u001b[1;34m()\u001b[0m\n\u001b[0;32m      4\u001b[0m fig, ax \u001b[38;5;241m=\u001b[39m plt\u001b[38;5;241m.\u001b[39msubplots(\u001b[38;5;241m1\u001b[39m, \u001b[38;5;241m1\u001b[39m)\n\u001b[0;32m      5\u001b[0m fig\u001b[38;5;241m.\u001b[39mset_size_inches(\u001b[38;5;241m15\u001b[39m,\u001b[38;5;241m10\u001b[39m)\n\u001b[0;32m      6\u001b[0m (Emit_by_carrier_te)\u001b[38;5;241m.\u001b[39mplot(\n\u001b[0;32m      7\u001b[0m     kind\u001b[38;5;241m=\u001b[39m\u001b[38;5;124m\"\u001b[39m\u001b[38;5;124marea\u001b[39m\u001b[38;5;124m\"\u001b[39m, ax\u001b[38;5;241m=\u001b[39max, linewidth\u001b[38;5;241m=\u001b[39m\u001b[38;5;241m0\u001b[39m,\n\u001b[1;32m----> 8\u001b[0m     color\u001b[38;5;241m=\u001b[39m[colors[col] \u001b[38;5;28;01mfor\u001b[39;00m col \u001b[38;5;129;01min\u001b[39;00m Emit_by_carrier_te\u001b[38;5;241m.\u001b[39mcolumns])\n\u001b[0;32m     10\u001b[0m \u001b[38;5;66;03m# Put a legend below current axis\u001b[39;00m\n\u001b[0;32m     11\u001b[0m ax\u001b[38;5;241m.\u001b[39mlegend(loc\u001b[38;5;241m=\u001b[39m\u001b[38;5;124m'\u001b[39m\u001b[38;5;124mupper center\u001b[39m\u001b[38;5;124m'\u001b[39m, bbox_to_anchor\u001b[38;5;241m=\u001b[39m(\u001b[38;5;241m0.5\u001b[39m, \u001b[38;5;241m-\u001b[39m\u001b[38;5;241m0.05\u001b[39m),\n\u001b[0;32m     12\u001b[0m           fancybox\u001b[38;5;241m=\u001b[39m\u001b[38;5;28;01mTrue\u001b[39;00m, shadow\u001b[38;5;241m=\u001b[39m\u001b[38;5;28;01mTrue\u001b[39;00m, ncol\u001b[38;5;241m=\u001b[39m\u001b[38;5;241m5\u001b[39m)\n",
      "Input \u001b[1;32mIn [68]\u001b[0m, in \u001b[0;36m<listcomp>\u001b[1;34m(.0)\u001b[0m\n\u001b[0;32m      4\u001b[0m fig, ax \u001b[38;5;241m=\u001b[39m plt\u001b[38;5;241m.\u001b[39msubplots(\u001b[38;5;241m1\u001b[39m, \u001b[38;5;241m1\u001b[39m)\n\u001b[0;32m      5\u001b[0m fig\u001b[38;5;241m.\u001b[39mset_size_inches(\u001b[38;5;241m15\u001b[39m,\u001b[38;5;241m10\u001b[39m)\n\u001b[0;32m      6\u001b[0m (Emit_by_carrier_te)\u001b[38;5;241m.\u001b[39mplot(\n\u001b[0;32m      7\u001b[0m     kind\u001b[38;5;241m=\u001b[39m\u001b[38;5;124m\"\u001b[39m\u001b[38;5;124marea\u001b[39m\u001b[38;5;124m\"\u001b[39m, ax\u001b[38;5;241m=\u001b[39max, linewidth\u001b[38;5;241m=\u001b[39m\u001b[38;5;241m0\u001b[39m,\n\u001b[1;32m----> 8\u001b[0m     color\u001b[38;5;241m=\u001b[39m[\u001b[43mcolors\u001b[49m\u001b[43m[\u001b[49m\u001b[43mcol\u001b[49m\u001b[43m]\u001b[49m \u001b[38;5;28;01mfor\u001b[39;00m col \u001b[38;5;129;01min\u001b[39;00m Emit_by_carrier_te\u001b[38;5;241m.\u001b[39mcolumns])\n\u001b[0;32m     10\u001b[0m \u001b[38;5;66;03m# Put a legend below current axis\u001b[39;00m\n\u001b[0;32m     11\u001b[0m ax\u001b[38;5;241m.\u001b[39mlegend(loc\u001b[38;5;241m=\u001b[39m\u001b[38;5;124m'\u001b[39m\u001b[38;5;124mupper center\u001b[39m\u001b[38;5;124m'\u001b[39m, bbox_to_anchor\u001b[38;5;241m=\u001b[39m(\u001b[38;5;241m0.5\u001b[39m, \u001b[38;5;241m-\u001b[39m\u001b[38;5;241m0.05\u001b[39m),\n\u001b[0;32m     12\u001b[0m           fancybox\u001b[38;5;241m=\u001b[39m\u001b[38;5;28;01mTrue\u001b[39;00m, shadow\u001b[38;5;241m=\u001b[39m\u001b[38;5;28;01mTrue\u001b[39;00m, ncol\u001b[38;5;241m=\u001b[39m\u001b[38;5;241m5\u001b[39m)\n",
      "\u001b[1;31mKeyError\u001b[0m: 'CCGT'"
     ]
    },
    {
     "data": {
      "image/png": "[encoded data removed]",
      "text/plain": [
       "<Figure size 1080x720 with 1 Axes>"
      ]
     },
     "metadata": {
      "needs_background": "light"
     },
     "output_type": "display_data"
    }
   ],
   "source": [
    "# sum all generator emissions per hour to get total emissions per hour\n",
    "# plot results\n",
    "\n",
    "fig, ax = plt.subplots(1, 1)\n",
    "fig.set_size_inches(15,10)\n",
    "(Emit_by_carrier_te).plot(\n",
    "    kind=\"area\", ax=ax, linewidth=0,\n",
    "    color=[colors[col] for col in Emit_by_carrier_te.columns])\n",
    "\n",
    "# Put a legend below current axis\n",
    "ax.legend(loc='upper center', bbox_to_anchor=(0.5, -0.05),\n",
    "          fancybox=True, shadow=True, ncol=5)\n",
    "\n",
    "ax.set_ylabel(\"tonne CO2\")\n",
    "\n",
    "ax.set_xlabel(\"\")"
   ]
  },
  {
   "cell_type": "markdown",
   "metadata": {},
   "source": [
    "From the emissions and power generation at each time step, the grid-wide instantaneous emissions intensity can now be calculated.\n"
   ]
  },
  {
   "cell_type": "code",
   "execution_count": 22,
   "metadata": {},
   "outputs": [],
   "source": [
    "# print(Emit_by_carrier_te)\n",
    "# Emit_by_carrier_te.to_csv('Emit_by_carrier_te.csv')"
   ]
  },
  {
   "cell_type": "code",
   "execution_count": 23,
   "metadata": {},
   "outputs": [],
   "source": [
    "# Emissions in tonnes at each time step\n",
    "Emit_t_te = Emit_by_carrier_te.sum(axis=1)\n",
    "\n",
    "# print(Emit_total_te)"
   ]
  },
  {
   "cell_type": "code",
   "execution_count": 24,
   "metadata": {},
   "outputs": [],
   "source": [
    "# Energy delivered to the grid at each time step\n",
    "E_t = E_by_carrier.sum(axis=1)\n",
    "\n",
    "# print(E_t)"
   ]
  },
  {
   "cell_type": "code",
   "execution_count": 25,
   "metadata": {},
   "outputs": [],
   "source": [
    "# The grid-wide emissions intensity in gCO2/kWh at each time step is given by:\n",
    "epsilon_t_gCO2 = Emit_t_te * 1e3 / E_t\n",
    "\n",
    "epsilon_t_gCO2.to_csv('epsilon_t_gCO2.csv')\n",
    "# print(epsilon_t_gCO2)"
   ]
  },
  {
   "cell_type": "code",
   "execution_count": 26,
   "metadata": {},
   "outputs": [
    {
     "name": "stdout",
     "output_type": "stream",
     "text": [
      "Method 1 =  226.42511873449666 gCO2/kWh\n",
      "Method 2 =  222.06520167938055 gCO2/kWh\n"
     ]
    }
   ],
   "source": [
    "# Average emissions intensity over the period, method 1 = quotient of sums:\n",
    "epsilon_average_gCO2 = 1e3 * sum(Emit_t_te) / sum(E_t)\n",
    "\n",
    "print(\"Method 1 = \", epsilon_average_gCO2, \"gCO2/kWh\")\n",
    "\n",
    "# Average emissions intensity over the period, method 2 = mean of dataframe:\n",
    "print(\"Method 2 = \", epsilon_t_gCO2.mean(), \"gCO2/kWh\")"
   ]
  },
  {
   "cell_type": "markdown",
   "metadata": {},
   "source": [
    "## Plotting locational emissions intensities"
   ]
  },
  {
   "cell_type": "markdown",
   "metadata": {},
   "source": [
    "The emissions intensity arising at each node can be calculated by inspection of the generation mix at each node."
   ]
  },
  {
   "cell_type": "code",
   "execution_count": 27,
   "metadata": {},
   "outputs": [],
   "source": [
    "# What is the generation mix at each node at each timestep?  How do I find this?"
   ]
  },
  {
   "cell_type": "code",
   "execution_count": 28,
   "metadata": {},
   "outputs": [],
   "source": [
    "# 1) Isolate generators_t.p\n",
    "# 2) append an array of buses, that matches the generators\n",
    "# 3) append an array of types, that matches the generators\n",
    "# 4) isolate by bus\n",
    "# 5) sum all types within each bus\n",
    "# 6) assign an emissions intensity to each type\n",
    "# 7) multiply the emissions intensity by the total power of each type"
   ]
  },
  {
   "cell_type": "code",
   "execution_count": 29,
   "metadata": {},
   "outputs": [],
   "source": [
    "# Isolate generators_t.p, the time series of real power generation from each individual generator\n",
    "generator_mix = network.generators_t.p\n",
    "\n",
    "# generator_mix.to_csv('generator_mix.csv')\n",
    "# print(generator_mix)"
   ]
  },
  {
   "cell_type": "code",
   "execution_count": 30,
   "metadata": {},
   "outputs": [],
   "source": [
    "# Isolate a dataframe of buses with the same sequence/indexing of generators as the generation time series\n",
    "generators_by_bus = network.generators.bus\n",
    "\n",
    "# print(generators_by_bus.unique())\n",
    "# len(generators_by_bus.unique()) - 30 unique buses in this dataframe, 5 interconnector nodes excluded"
   ]
  },
  {
   "cell_type": "code",
   "execution_count": 31,
   "metadata": {},
   "outputs": [],
   "source": [
    "# Isolate a dataframe of types with the same sequence/indexing of generators as the generation time series\n",
    "generators_by_type = network.generators.type\n",
    "\n",
    "# print(generators_by_type)"
   ]
  },
  {
   "cell_type": "code",
   "execution_count": 32,
   "metadata": {},
   "outputs": [],
   "source": [
    "# Append the buses and types at the extreme end of the time series of real power generation, one after the other\n",
    "generator_mix.loc[len(generator_mix)] = generators_by_bus\n",
    "generator_mix.loc[len(generator_mix)] = generators_by_type\n",
    "\n",
    "# generator_mix.to_csv('generator_mix.csv')\n",
    "# print(generator_mix)"
   ]
  },
  {
   "cell_type": "code",
   "execution_count": 33,
   "metadata": {},
   "outputs": [
    {
     "name": "stdout",
     "output_type": "stream",
     "text": [
      "Index(['Beauly', 'Peterhead', 'Errochty', 'Denny/Bonnybridge', 'Neilston',\n",
      "       'Strathaven', 'Torness', 'Eccles', 'Harker', 'Stella West',\n",
      "       'Penwortham', 'Deeside', 'Daines', 'Th. Marsh/Stocksbridge',\n",
      "       'Thornton/Drax/Eggborough', 'Keadby', 'Ratcliffe', 'Feckenham',\n",
      "       'Walpole', 'Bramford', 'Pelham', 'Sundon/East Claydon', 'Melksham',\n",
      "       'Bramley', 'London', 'Kemsley', 'Sellindge', 'Lovedean', 'S.W.Penisula',\n",
      "       'Netherlands', 'Belgium', 'France1', 'France2', 'Ireland',\n",
      "       'N. Ireland'],\n",
      "      dtype='object', name='Bus')\n"
     ]
    },
    {
     "data": {
      "text/plain": [
       "35"
      ]
     },
     "execution_count": 33,
     "metadata": {},
     "output_type": "execute_result"
    }
   ],
   "source": [
    "# there are currently 35 discrete buses; 30 generators and 5 interconnectors\n",
    "# buses = network.bus.generators_by_bus.unique()\n",
    "buses = network.buses\n",
    "buses = buses.index\n",
    "\n",
    "print(buses)\n",
    "len(buses)"
   ]
  },
  {
   "cell_type": "code",
   "execution_count": 34,
   "metadata": {},
   "outputs": [
    {
     "name": "stdout",
     "output_type": "stream",
     "text": [
      "['Conventional Steam' 'AGR' 'PWR' 'OCGT' 'CCGT' 'Diesel/gas oil'\n",
      " 'Anaerobic Digestion' 'EfW Incineration' 'Landfill Gas'\n",
      " 'Sewage Sludge Digestion' 'Shoreline Wave'\n",
      " 'Tidal Barrage and Tidal Stream' 'Biomass (co-firing)'\n",
      " 'Biomass (dedicated)' 'Wind Offshore' 'Wind Onshore'\n",
      " 'Solar Photovoltaics' 'Large Hydro' 'Small Hydro' 'Interconnector']\n"
     ]
    },
    {
     "data": {
      "text/plain": [
       "20"
      ]
     },
     "execution_count": 34,
     "metadata": {},
     "output_type": "execute_result"
    }
   ],
   "source": [
    "# there are currently 20 discrete types, *** but not including three marine types or floating wind here ***\n",
    "types = generators_by_type.unique()\n",
    "print(types)\n",
    "len(types)"
   ]
  },
  {
   "cell_type": "code",
   "execution_count": 35,
   "metadata": {},
   "outputs": [
    {
     "name": "stdout",
     "output_type": "stream",
     "text": [
      "Generator            Peterhead        Kirkwall         Lerwick  \\\n",
      "snapshot                                                         \n",
      "2019-12-01 00:00:00        0.0             0.0             0.0   \n",
      "2019-12-01 00:30:00        0.0             0.0             0.0   \n",
      "2019-12-01 01:00:00        0.0             0.0             0.0   \n",
      "2019-12-01 01:30:00        0.0             0.0             0.0   \n",
      "2019-12-01 02:00:00        0.0             0.0             0.0   \n",
      "...                        ...             ...             ...   \n",
      "2019-12-03 22:30:00        0.0             0.0             0.0   \n",
      "2019-12-03 23:00:00        0.0             0.0             0.0   \n",
      "2019-12-03 23:30:00        0.0             0.0             0.0   \n",
      "144                  Peterhead       Peterhead       Peterhead   \n",
      "145                       CCGT  Diesel/gas oil  Diesel/gas oil   \n",
      "\n",
      "Generator           Glenfiddich Distillery     Black Dog  \\\n",
      "snapshot                                                   \n",
      "2019-12-01 00:00:00                    1.5           2.2   \n",
      "2019-12-01 00:30:00                    1.5           2.2   \n",
      "2019-12-01 01:00:00                    1.5           2.2   \n",
      "2019-12-01 01:30:00                    1.5           2.2   \n",
      "2019-12-01 02:00:00                    1.5           2.2   \n",
      "...                                    ...           ...   \n",
      "2019-12-03 22:30:00                    1.5           2.2   \n",
      "2019-12-03 23:00:00                    1.5           2.2   \n",
      "2019-12-03 23:30:00                    1.5           2.2   \n",
      "144                              Peterhead     Peterhead   \n",
      "145                    Anaerobic Digestion  Landfill Gas   \n",
      "\n",
      "Generator           Tarbothill Landfill Site Stoneyhill Landfill Site  \\\n",
      "snapshot                                                                \n",
      "2019-12-01 00:00:00                      2.2                      4.3   \n",
      "2019-12-01 00:30:00                      2.2                      4.3   \n",
      "2019-12-01 01:00:00                      2.2                      4.3   \n",
      "2019-12-01 01:30:00                      2.2                      4.3   \n",
      "2019-12-01 02:00:00                      2.2                      4.3   \n",
      "...                                      ...                      ...   \n",
      "2019-12-03 22:30:00                      2.2                      4.3   \n",
      "2019-12-03 23:00:00                      2.2                      4.3   \n",
      "2019-12-03 23:30:00                      2.2                      4.3   \n",
      "144                                Peterhead                Peterhead   \n",
      "145                             Landfill Gas             Landfill Gas   \n",
      "\n",
      "Generator                      SR-2000 (FoW - EMEC)  \\\n",
      "snapshot                                              \n",
      "2019-12-01 00:00:00                             2.0   \n",
      "2019-12-01 00:30:00                             2.0   \n",
      "2019-12-01 01:00:00                             2.0   \n",
      "2019-12-01 01:30:00                             2.0   \n",
      "2019-12-01 02:00:00                             2.0   \n",
      "...                                             ...   \n",
      "2019-12-03 22:30:00                             2.0   \n",
      "2019-12-03 23:00:00                             2.0   \n",
      "2019-12-03 23:30:00                             2.0   \n",
      "144                                       Peterhead   \n",
      "145                  Tidal Barrage and Tidal Stream   \n",
      "\n",
      "Generator             Inner Sound Phase 1A (MeyGen)  \\\n",
      "snapshot                                              \n",
      "2019-12-01 00:00:00                             6.0   \n",
      "2019-12-01 00:30:00                             6.0   \n",
      "2019-12-01 01:00:00                             6.0   \n",
      "2019-12-01 01:30:00                             6.0   \n",
      "2019-12-01 02:00:00                             6.0   \n",
      "...                                             ...   \n",
      "2019-12-03 22:30:00                             6.0   \n",
      "2019-12-03 23:00:00                             6.0   \n",
      "2019-12-03 23:30:00                             6.0   \n",
      "144                                       Peterhead   \n",
      "145                  Tidal Barrage and Tidal Stream   \n",
      "\n",
      "Generator                   Magallanes (FoW - EMEC)  \\\n",
      "snapshot                                              \n",
      "2019-12-01 00:00:00                             2.0   \n",
      "2019-12-01 00:30:00                             2.0   \n",
      "2019-12-01 01:00:00                             2.0   \n",
      "2019-12-01 01:30:00                             2.0   \n",
      "2019-12-01 02:00:00                             2.0   \n",
      "...                                             ...   \n",
      "2019-12-03 22:30:00                             2.0   \n",
      "2019-12-03 23:00:00                             2.0   \n",
      "2019-12-03 23:30:00                             2.0   \n",
      "144                                       Peterhead   \n",
      "145                  Tidal Barrage and Tidal Stream   \n",
      "\n",
      "Generator                      Shetland Tidal Array Macphie of Glenbervie  \\\n",
      "snapshot                                                                    \n",
      "2019-12-01 00:00:00                             0.5                   0.0   \n",
      "2019-12-01 00:30:00                             0.5                   0.0   \n",
      "2019-12-01 01:00:00                             0.5                   0.0   \n",
      "2019-12-01 01:30:00                             0.5                   0.0   \n",
      "2019-12-01 02:00:00                             0.5                   0.0   \n",
      "...                                             ...                   ...   \n",
      "2019-12-03 22:30:00                             0.5                   0.0   \n",
      "2019-12-03 23:00:00                             0.5                   0.0   \n",
      "2019-12-03 23:30:00                             0.5                   0.0   \n",
      "144                                       Peterhead             Peterhead   \n",
      "145                  Tidal Barrage and Tidal Stream   Biomass (dedicated)   \n",
      "\n",
      "Generator            Pulteney Distillery Wind Offshore Peterhead  \\\n",
      "snapshot                                                           \n",
      "2019-12-01 00:00:00                  0.0              105.310893   \n",
      "2019-12-01 00:30:00                  0.0               123.32268   \n",
      "2019-12-01 01:00:00                  0.0              140.909758   \n",
      "2019-12-01 01:30:00                  0.0              158.072125   \n",
      "2019-12-01 02:00:00                  0.0              171.346339   \n",
      "...                                  ...                     ...   \n",
      "2019-12-03 22:30:00                  0.0              364.562948   \n",
      "2019-12-03 23:00:00                  0.0              435.627382   \n",
      "2019-12-03 23:30:00                  0.0              435.627382   \n",
      "144                            Peterhead               Peterhead   \n",
      "145                  Biomass (dedicated)           Wind Offshore   \n",
      "\n",
      "Generator           Wind Onshore Peterhead Solar Photovoltaics Peterhead  \n",
      "snapshot                                                                  \n",
      "2019-12-01 00:00:00              77.614932                           0.0  \n",
      "2019-12-01 00:30:00              86.039421                           0.0  \n",
      "2019-12-01 01:00:00              96.856123                           0.0  \n",
      "2019-12-01 01:30:00             110.947089                           0.0  \n",
      "2019-12-01 02:00:00             123.310186                           0.0  \n",
      "...                                    ...                           ...  \n",
      "2019-12-03 22:30:00             503.870042                           0.0  \n",
      "2019-12-03 23:00:00             530.392221                           0.0  \n",
      "2019-12-03 23:30:00             530.392221                           0.0  \n",
      "144                              Peterhead                     Peterhead  \n",
      "145                           Wind Onshore           Solar Photovoltaics  \n",
      "\n",
      "[146 rows x 16 columns]\n"
     ]
    }
   ],
   "source": [
    "# 20 types and 30 buses identified above\n",
    "# 5 buses are interconnectors and thus not necessary to model, or should have permanent emissions intensity assigned?\n",
    "# stepping through the generation mix of each bus in turn...\n",
    "\n",
    "# note that onshore wind and offshore wind are aggregated at this stage - requires amendment for Floating Wind...\n",
    "\n",
    "bus_1 = generator_mix.loc[ : , [(generator_mix[col] == buses[1]).any() for col in generator_mix.columns]] \n",
    "# bus_2 = generator_mix.loc[ : , [(generator_mix[col] == buses[2]).any() for col in generator_mix.columns]] \n",
    "# bus_3 = generator_mix.loc[ : , [(generator_mix[col] == buses[3]).any() for col in generator_mix.columns]] \n",
    "\n",
    "# ... etc\n",
    "\n",
    "print(bus_1)\n",
    "# print(bus_2)\n",
    "# print(bus_3)\n",
    "\n",
    "# ... etc\n",
    "\n",
    "# bus_1.to_csv('bus1.csv') # Beauly generation mix time series by type, \n",
    "# bus_2.to_csv('bus2.csv') # Peterhead generation mix time series by type\n",
    "# bus_3.to_csv('bus3.csv') # Errochty generation time mix series by type\n",
    "\n",
    "# ... etc\n",
    "\n",
    "\n",
    "# the final rows in these dataframes still have the 'bus' and 'type' - but this removed below"
   ]
  },
  {
   "cell_type": "code",
   "execution_count": 36,
   "metadata": {},
   "outputs": [
    {
     "name": "stdout",
     "output_type": "stream",
     "text": [
      "145                       CCGT  Diesel/gas oil  Diesel/gas oil  \\\n",
      "snapshot                                                         \n",
      "2019-12-01 00:00:00        0.0             0.0             0.0   \n",
      "2019-12-01 00:30:00        0.0             0.0             0.0   \n",
      "2019-12-01 01:00:00        0.0             0.0             0.0   \n",
      "2019-12-01 01:30:00        0.0             0.0             0.0   \n",
      "2019-12-01 02:00:00        0.0             0.0             0.0   \n",
      "...                        ...             ...             ...   \n",
      "2019-12-03 22:30:00        0.0             0.0             0.0   \n",
      "2019-12-03 23:00:00        0.0             0.0             0.0   \n",
      "2019-12-03 23:30:00        0.0             0.0             0.0   \n",
      "144                  Peterhead       Peterhead       Peterhead   \n",
      "145                       CCGT  Diesel/gas oil  Diesel/gas oil   \n",
      "\n",
      "145                  Anaerobic Digestion  Landfill Gas  Landfill Gas  \\\n",
      "snapshot                                                               \n",
      "2019-12-01 00:00:00                  1.5           2.2           2.2   \n",
      "2019-12-01 00:30:00                  1.5           2.2           2.2   \n",
      "2019-12-01 01:00:00                  1.5           2.2           2.2   \n",
      "2019-12-01 01:30:00                  1.5           2.2           2.2   \n",
      "2019-12-01 02:00:00                  1.5           2.2           2.2   \n",
      "...                                  ...           ...           ...   \n",
      "2019-12-03 22:30:00                  1.5           2.2           2.2   \n",
      "2019-12-03 23:00:00                  1.5           2.2           2.2   \n",
      "2019-12-03 23:30:00                  1.5           2.2           2.2   \n",
      "144                            Peterhead     Peterhead     Peterhead   \n",
      "145                  Anaerobic Digestion  Landfill Gas  Landfill Gas   \n",
      "\n",
      "145                  Landfill Gas  Tidal Barrage and Tidal Stream  \\\n",
      "snapshot                                                            \n",
      "2019-12-01 00:00:00           4.3                             2.0   \n",
      "2019-12-01 00:30:00           4.3                             2.0   \n",
      "2019-12-01 01:00:00           4.3                             2.0   \n",
      "2019-12-01 01:30:00           4.3                             2.0   \n",
      "2019-12-01 02:00:00           4.3                             2.0   \n",
      "...                           ...                             ...   \n",
      "2019-12-03 22:30:00           4.3                             2.0   \n",
      "2019-12-03 23:00:00           4.3                             2.0   \n",
      "2019-12-03 23:30:00           4.3                             2.0   \n",
      "144                     Peterhead                       Peterhead   \n",
      "145                  Landfill Gas  Tidal Barrage and Tidal Stream   \n",
      "\n",
      "145                  Tidal Barrage and Tidal Stream  \\\n",
      "snapshot                                              \n",
      "2019-12-01 00:00:00                             6.0   \n",
      "2019-12-01 00:30:00                             6.0   \n",
      "2019-12-01 01:00:00                             6.0   \n",
      "2019-12-01 01:30:00                             6.0   \n",
      "2019-12-01 02:00:00                             6.0   \n",
      "...                                             ...   \n",
      "2019-12-03 22:30:00                             6.0   \n",
      "2019-12-03 23:00:00                             6.0   \n",
      "2019-12-03 23:30:00                             6.0   \n",
      "144                                       Peterhead   \n",
      "145                  Tidal Barrage and Tidal Stream   \n",
      "\n",
      "145                  Tidal Barrage and Tidal Stream  \\\n",
      "snapshot                                              \n",
      "2019-12-01 00:00:00                             2.0   \n",
      "2019-12-01 00:30:00                             2.0   \n",
      "2019-12-01 01:00:00                             2.0   \n",
      "2019-12-01 01:30:00                             2.0   \n",
      "2019-12-01 02:00:00                             2.0   \n",
      "...                                             ...   \n",
      "2019-12-03 22:30:00                             2.0   \n",
      "2019-12-03 23:00:00                             2.0   \n",
      "2019-12-03 23:30:00                             2.0   \n",
      "144                                       Peterhead   \n",
      "145                  Tidal Barrage and Tidal Stream   \n",
      "\n",
      "145                  Tidal Barrage and Tidal Stream  Biomass (dedicated)  \\\n",
      "snapshot                                                                   \n",
      "2019-12-01 00:00:00                             0.5                  0.0   \n",
      "2019-12-01 00:30:00                             0.5                  0.0   \n",
      "2019-12-01 01:00:00                             0.5                  0.0   \n",
      "2019-12-01 01:30:00                             0.5                  0.0   \n",
      "2019-12-01 02:00:00                             0.5                  0.0   \n",
      "...                                             ...                  ...   \n",
      "2019-12-03 22:30:00                             0.5                  0.0   \n",
      "2019-12-03 23:00:00                             0.5                  0.0   \n",
      "2019-12-03 23:30:00                             0.5                  0.0   \n",
      "144                                       Peterhead            Peterhead   \n",
      "145                  Tidal Barrage and Tidal Stream  Biomass (dedicated)   \n",
      "\n",
      "145                  Biomass (dedicated)  Wind Offshore  Wind Onshore  \\\n",
      "snapshot                                                                \n",
      "2019-12-01 00:00:00                  0.0     105.310893     77.614932   \n",
      "2019-12-01 00:30:00                  0.0      123.32268     86.039421   \n",
      "2019-12-01 01:00:00                  0.0     140.909758     96.856123   \n",
      "2019-12-01 01:30:00                  0.0     158.072125    110.947089   \n",
      "2019-12-01 02:00:00                  0.0     171.346339    123.310186   \n",
      "...                                  ...            ...           ...   \n",
      "2019-12-03 22:30:00                  0.0     364.562948    503.870042   \n",
      "2019-12-03 23:00:00                  0.0     435.627382    530.392221   \n",
      "2019-12-03 23:30:00                  0.0     435.627382    530.392221   \n",
      "144                            Peterhead      Peterhead     Peterhead   \n",
      "145                  Biomass (dedicated)  Wind Offshore  Wind Onshore   \n",
      "\n",
      "145                  Solar Photovoltaics  \n",
      "snapshot                                  \n",
      "2019-12-01 00:00:00                  0.0  \n",
      "2019-12-01 00:30:00                  0.0  \n",
      "2019-12-01 01:00:00                  0.0  \n",
      "2019-12-01 01:30:00                  0.0  \n",
      "2019-12-01 02:00:00                  0.0  \n",
      "...                                  ...  \n",
      "2019-12-03 22:30:00                  0.0  \n",
      "2019-12-03 23:00:00                  0.0  \n",
      "2019-12-03 23:30:00                  0.0  \n",
      "144                            Peterhead  \n",
      "145                  Solar Photovoltaics  \n",
      "\n",
      "[146 rows x 16 columns]\n"
     ]
    }
   ],
   "source": [
    "bus_1.columns = bus_1.iloc[-1] # move the final row to become the column headers\n",
    "print(bus_1)"
   ]
  },
  {
   "cell_type": "code",
   "execution_count": 37,
   "metadata": {},
   "outputs": [
    {
     "name": "stdout",
     "output_type": "stream",
     "text": [
      "Index(['CCGT', 'Diesel/gas oil', 'Anaerobic Digestion', 'Landfill Gas',\n",
      "       'Tidal Barrage and Tidal Stream', 'Biomass (dedicated)',\n",
      "       'Wind Offshore', 'Wind Onshore', 'Solar Photovoltaics'],\n",
      "      dtype='object', name=145)\n",
      "9\n"
     ]
    }
   ],
   "source": [
    "bus_1_types = bus_1.columns.unique()\n",
    "print(bus_1_types)\n",
    "print(len(bus_1_types))"
   ]
  },
  {
   "cell_type": "code",
   "execution_count": 38,
   "metadata": {},
   "outputs": [
    {
     "data": {
      "text/plain": [
       "'CCGT'"
      ]
     },
     "execution_count": 38,
     "metadata": {},
     "output_type": "execute_result"
    }
   ],
   "source": [
    "bus_1_types[0]"
   ]
  },
  {
   "cell_type": "code",
   "execution_count": 39,
   "metadata": {},
   "outputs": [],
   "source": [
    "bus_1_type_1 = bus_1[[col for col in bus_1.columns if bus_1_types[0] in col]].sum(axis=1)\n",
    "bus_1_type_1 = bus_1_type_1.drop(bus_1_type_1.index[[-1,-2]])  # removing the strings from the bottom two rows\n",
    "\n",
    "# bus_1_type_1.columns = ['snapshot', 'CCGT'] # attempt to rename column to CCGT - seems to fail\n",
    "\n",
    "# bus_1_type_1.to_csv('bus_1_type_1.csv')\n",
    "# print(bus_1_type_1)\n",
    "# type(bus_1_type_1)\n",
    "# something weird going on with original node generation mix time series???  02/12/2019 10:30 are not equal!"
   ]
  },
  {
   "cell_type": "code",
   "execution_count": 40,
   "metadata": {},
   "outputs": [],
   "source": [
    "bus_1_type_2 = bus_1[[col for col in bus_1.columns if bus_1_types[1] in col]].sum(axis=1)\n",
    "bus_1_type_2 = bus_1_type_2.drop(bus_1_type_2.index[[-1,-2]])  # removing the strings from the bottom two rows\n",
    "\n",
    "# display(bus_1_type_2)\n",
    "# type(bus_1_type_2)"
   ]
  },
  {
   "cell_type": "code",
   "execution_count": 41,
   "metadata": {},
   "outputs": [
    {
     "name": "stdout",
     "output_type": "stream",
     "text": [
      "                    CCGT Diesel/gas oil\n",
      "snapshot                               \n",
      "2019-12-01 00:00:00  0.0            0.0\n",
      "2019-12-01 00:30:00  0.0            0.0\n",
      "2019-12-01 01:00:00  0.0            0.0\n",
      "2019-12-01 01:30:00  0.0            0.0\n",
      "2019-12-01 02:00:00  0.0            0.0\n",
      "...                  ...            ...\n",
      "2019-12-03 21:30:00  0.0            0.0\n",
      "2019-12-03 22:00:00  0.0            0.0\n",
      "2019-12-03 22:30:00  0.0            0.0\n",
      "2019-12-03 23:00:00  0.0            0.0\n",
      "2019-12-03 23:30:00  0.0            0.0\n",
      "\n",
      "[144 rows x 2 columns]\n"
     ]
    }
   ],
   "source": [
    "bus_1_type_1_df = bus_1_type_1.to_frame(name = bus_1_types[0])\n",
    "bus_1_type_2_df = bus_1_type_2.to_frame(name = bus_1_types[1])\n",
    "\n",
    "#concatenate three Series into one DataFrame\n",
    "bus_1_types = pd.concat([bus_1_type_1_df, bus_1_type_2_df], axis=1)\n",
    "print(bus_1_types)"
   ]
  },
  {
   "cell_type": "code",
   "execution_count": 42,
   "metadata": {},
   "outputs": [],
   "source": [
    "# arrange nodal generation mix columns into alphabetical order to ensure consistency with EI factors\n",
    "\n",
    "bus_1_types = bus_1_types[sorted(bus_1_types.columns)]"
   ]
  },
  {
   "cell_type": "code",
   "execution_count": 43,
   "metadata": {},
   "outputs": [
    {
     "name": "stdout",
     "output_type": "stream",
     "text": [
      "['CCGT' 'Diesel/gas oil']\n"
     ]
    }
   ],
   "source": [
    "# create a numpy array from a list of generation types, from top row of generation mix dataframe\n",
    "types = np.asarray(list(bus_1_types.columns.values))\n",
    "\n",
    "print(types)\n",
    "# type(types)"
   ]
  },
  {
   "cell_type": "code",
   "execution_count": 44,
   "metadata": {},
   "outputs": [
    {
     "name": "stdout",
     "output_type": "stream",
     "text": [
      "                           Carrier  Emissions Intensity [gCO2/kWh]\n",
      "0              Anaerobic Digestion                             354\n",
      "1                          Biomass                             120\n",
      "2              Biomass (co-firing)                             120\n",
      "3              Biomass (dedicated)                             120\n",
      "4                             Coal                             937\n",
      "5                 EfW Incineration                             300\n",
      "6                            Hydro                               0\n",
      "7           Interconnectors Import                             171\n",
      "8                     Landfill Gas                             300\n",
      "9                      Natural Gas                             394\n",
      "10                         Nuclear                               0\n",
      "11                             Oil                             935\n",
      "12    Pumped Storage Hydroelectric                               0\n",
      "13         Sewage Sludge Digestion                             300\n",
      "14                  Shoreline Wave                               0\n",
      "15                     Small Hydro                               0\n",
      "16             Solar Photovoltaics                               0\n",
      "17  Tidal Barrage and Tidal Stream                               0\n",
      "18                   Wind Offshore                               0\n",
      "19                    Wind Onshore                               0\n",
      "20                            CCGT                             394\n",
      "21                  Diesel/gas oil                             300\n"
     ]
    }
   ],
   "source": [
    "# create a dataframe of emissions intensity data by reading in the emissions intensity data contained in relevant .csv\n",
    "# issue here that there is inconsistency with carriers/types which Iain will need to address in input data\n",
    "emissions_intensity = pd.read_csv('prototype_emissions.csv')\n",
    "\n",
    "print(emissions_intensity)\n",
    "# type(emissions_intensity)"
   ]
  },
  {
   "cell_type": "code",
   "execution_count": 45,
   "metadata": {},
   "outputs": [
    {
     "name": "stdout",
     "output_type": "stream",
     "text": [
      "           Carrier  Emissions Intensity [gCO2/kWh]\n",
      "20            CCGT                             394\n",
      "21  Diesel/gas oil                             300\n"
     ]
    }
   ],
   "source": [
    "# remove the generation carriers that are not present in the generation mix, from the emissions intensity dataframe\n",
    "emissions_intensity_LOPF_bus_1 = emissions_intensity[emissions_intensity['Carrier'].isin(types)]\n",
    "\n",
    "# Sort emissions intensity dataframe alphabetically by Carrier to ensure consistency with generation mix dataframe\n",
    "emissions_intensity.sort_values('Carrier')\n",
    "\n",
    "print(emissions_intensity_LOPF_bus_1)\n",
    "# type(emissions_intensity_LOPF)"
   ]
  },
  {
   "cell_type": "code",
   "execution_count": 46,
   "metadata": {},
   "outputs": [
    {
     "name": "stdout",
     "output_type": "stream",
     "text": [
      "[394 300]\n"
     ]
    }
   ],
   "source": [
    "# Create a numpy array of only the emissions intensity (EI) factors from the emissions intensity dataframe\n",
    "EI_factors = emissions_intensity_LOPF_bus_1['Emissions Intensity [gCO2/kWh]'].to_numpy()\n",
    "\n",
    "print(EI_factors)\n",
    "# type(EI_factors)"
   ]
  },
  {
   "cell_type": "code",
   "execution_count": 56,
   "metadata": {},
   "outputs": [],
   "source": [
    "# Create energy generation mix dataframe by multiplying power generation mix by the time step [MWh]\n",
    "E_by_carrier = bus_1_types.multiply(time_step)\n",
    "\n",
    "# print(E_by_carrier)\n",
    "E_by_carrier.to_csv('E_by_carrier.csv')"
   ]
  },
  {
   "cell_type": "code",
   "execution_count": 48,
   "metadata": {},
   "outputs": [],
   "source": [
    "# Create emissions dataframe. Multiply all columns in the energy dataframe by the numpy array of emissions intensity factors\n",
    "Emit_by_carrier = E_by_carrier.multiply(EI_factors, axis=1)\n",
    "\n",
    "# print(Emit_by_carrier)"
   ]
  },
  {
   "cell_type": "code",
   "execution_count": 55,
   "metadata": {},
   "outputs": [
    {
     "name": "stdout",
     "output_type": "stream",
     "text": [
      "                    CCGT Diesel/gas oil\n",
      "snapshot                               \n",
      "2019-12-01 00:00:00  0.0            0.0\n",
      "2019-12-01 00:30:00  0.0            0.0\n",
      "2019-12-01 01:00:00  0.0            0.0\n",
      "2019-12-01 01:30:00  0.0            0.0\n",
      "2019-12-01 02:00:00  0.0            0.0\n",
      "...                  ...            ...\n",
      "2019-12-03 21:30:00  0.0            0.0\n",
      "2019-12-03 22:00:00  0.0            0.0\n",
      "2019-12-03 22:30:00  0.0            0.0\n",
      "2019-12-03 23:00:00  0.0            0.0\n",
      "2019-12-03 23:30:00  0.0            0.0\n",
      "\n",
      "[144 rows x 2 columns]\n"
     ]
    }
   ],
   "source": [
    "# Convert gCO2/kWh * MWh to teCO2; the quotient of kWh:MWh (1e3) and gCO2:teCO2 (1e6) = 1e3\n",
    "Emit_by_carrier_te = Emit_by_carrier.div(1e3)\n",
    "\n",
    "print(Emit_by_carrier_te)\n",
    "Emit_by_carrier_te.to_csv('Emit_by_carrier_te.csv')"
   ]
  },
  {
   "cell_type": "code",
   "execution_count": 70,
   "metadata": {},
   "outputs": [
    {
     "data": {
      "text/plain": [
       "<AxesSubplot:xlabel='snapshot'>"
      ]
     },
     "execution_count": 70,
     "metadata": {},
     "output_type": "execute_result"
    }
   ],
   "source": [
    "# Graphing didn't work for some reason...\n",
    "\n",
    "(Emit_by_carrier_te).plot(kind=\"area\", ax=ax, linewidth=0)\n",
    "\n"
   ]
  },
  {
   "cell_type": "markdown",
   "metadata": {},
   "source": [
    "From the emissions and power generation at each time step, the grid-wide instantaneous emissions intensity can now be calculated.\n"
   ]
  },
  {
   "cell_type": "code",
   "execution_count": null,
   "metadata": {},
   "outputs": [],
   "source": [
    "# print(Emit_by_carrier_te)\n",
    "# Emit_by_carrier_te.to_csv('Emit_by_carrier_te.csv')"
   ]
  },
  {
   "cell_type": "code",
   "execution_count": 58,
   "metadata": {},
   "outputs": [],
   "source": [
    "# Emissions in tonnes at each time step\n",
    "Emit_t_te = Emit_by_carrier_te.sum(axis=1)\n",
    "\n",
    "# print(Emit_total_te)"
   ]
  },
  {
   "cell_type": "code",
   "execution_count": 59,
   "metadata": {},
   "outputs": [],
   "source": [
    "# Energy delivered to the grid at each time step\n",
    "E_t = E_by_carrier.sum(axis=1)\n",
    "\n",
    "# print(E_t)"
   ]
  },
  {
   "cell_type": "code",
   "execution_count": 60,
   "metadata": {},
   "outputs": [],
   "source": [
    "# The grid-wide emissions intensity in gCO2/kWh at each time step is given by:\n",
    "epsilon_t_gCO2 = Emit_t_te * 1e3 / E_t\n",
    "\n",
    "epsilon_t_gCO2.to_csv('epsilon_t_gCO2.csv')\n",
    "# print(epsilon_t_gCO2)"
   ]
  },
  {
   "cell_type": "code",
   "execution_count": 61,
   "metadata": {},
   "outputs": [
    {
     "name": "stdout",
     "output_type": "stream",
     "text": [
      "Method 1 =  393.9999999999999 gCO2/kWh\n",
      "Method 2 =  394.0 gCO2/kWh\n"
     ]
    }
   ],
   "source": [
    "# Average emissions intensity over the period, method 1 = quotient of sums:\n",
    "epsilon_average_gCO2 = 1e3 * sum(Emit_t_te) / sum(E_t)\n",
    "\n",
    "print(\"Method 1 = \", epsilon_average_gCO2, \"gCO2/kWh\")\n",
    "\n",
    "# Average emissions intensity over the period, method 2 = mean of dataframe:\n",
    "print(\"Method 2 = \", epsilon_t_gCO2.mean(), \"gCO2/kWh\")"
   ]
  },
  {
   "cell_type": "code",
   "execution_count": null,
   "metadata": {},
   "outputs": [],
   "source": [
    "# Now just need to...\n",
    "# set up loops to perform this for every type of generation at every node\n",
    "# note compatibility with carriers/types to be resolved & amended in EI data"
   ]
  },
  {
   "cell_type": "code",
   "execution_count": null,
   "metadata": {},
   "outputs": [],
   "source": [
    "# power_bus_1 = bus_1.loc[ : , [(bus_1[col] == 'Wind Onshore').any() for col in bus_1.columns]]\n",
    "\n",
    "\n",
    "# power_bus_1 = power_bus_1.drop(power_bus_1.index[[-1,-2]])\n",
    "# print(power_bus_1)"
   ]
  },
  {
   "cell_type": "code",
   "execution_count": null,
   "metadata": {},
   "outputs": [],
   "source": [
    "# # isolate the real power time series of each generator type at one bus...\n",
    "\n",
    "# # https://datagy.io/pandas-select-columns/\n",
    "# for i in buses:\n",
    "#     bus_i = generator_mix.loc[ : , [(generator_mix[col] == buses[1]).any() for col in generator_mix.columns]]\n",
    "# print(bus_rand)\n",
    "\n",
    "# # There must be a way to do this for a list of buses!"
   ]
  },
  {
   "cell_type": "code",
   "execution_count": null,
   "metadata": {},
   "outputs": [],
   "source": [
    "# # isolate the real power time series of each generator type at one bus...\n",
    "\n",
    "# bus_rand = generator_mix.loc[ : , [(generator_mix[col] == 'Keadby').any() for col in generator_mix.columns]]\n",
    "# print(bus_rand)\n",
    "\n",
    "# # There must be a way to do this for a list of buses!"
   ]
  },
  {
   "cell_type": "code",
   "execution_count": null,
   "metadata": {},
   "outputs": [],
   "source": [
    "# # sum every 'type' in bus_rand\n",
    "# power_bus_rand = bus_rand.loc[ : , [(bus_rand[col] == 'Wind Onshore').any() for col in bus_rand.columns]]\n",
    "# power_bus_rand = power_bus_rand.drop(power_bus_rand.index[[-1,-2]])\n",
    "# print(power_bus_rand)"
   ]
  },
  {
   "cell_type": "code",
   "execution_count": null,
   "metadata": {},
   "outputs": [],
   "source": [
    "# # remove all buses except Beauly from the generators dataframe\n",
    "# bus_of_interest = 'Beauly'\n",
    "# Beauly_generators = buses[buses['bus'].isin(bus_of_interest)]\n"
   ]
  },
  {
   "cell_type": "code",
   "execution_count": null,
   "metadata": {},
   "outputs": [],
   "source": [
    "# # Time series of the real power, p, at each bus (but no description of Carrier)\n",
    "# print(network.generators_t.p.groupby(network.generators.bus, axis=1).sum())"
   ]
  },
  {
   "cell_type": "code",
   "execution_count": null,
   "metadata": {},
   "outputs": [],
   "source": [
    "# Code copied from marginal price mapping...\n",
    "\n",
    "# fig, ax = plt.subplots(1, 1, subplot_kw={\"projection\": ccrs.PlateCarree()})\n",
    "# fig.set_size_inches(20, 10)\n",
    "\n",
    "# network.plot(ax=ax, line_widths=pd.Series(0.5, network.lines.index))\n",
    "# plt.hexbin(network.buses.x, network.buses.y,\n",
    "#            gridsize=20,\n",
    "#            C=network.buses_t.marginal_price.loc[now], # Note here from within 'network' object exists 'marginal_price'\n",
    "#            cmap=plt.cm.jet)\n",
    "\n",
    "# # for some reason the colorbar only works with graphs plt.plot\n",
    "# # and must be attached plt.colorbar\n",
    "\n",
    "# cb = plt.colorbar()\n",
    "# cb.set_label('Locational Marginal Price (£/MWh)')"
   ]
  },
  {
   "cell_type": "markdown",
   "metadata": {},
   "source": [
    "## Plotting storage"
   ]
  },
  {
   "cell_type": "markdown",
   "metadata": {},
   "source": [
    "Graph the pumped hydro dispatch and state of charge..."
   ]
  },
  {
   "cell_type": "code",
   "execution_count": null,
   "metadata": {},
   "outputs": [],
   "source": [
    "fig, ax = plt.subplots(1, 1)\n",
    "fig.set_size_inches(15,10)\n",
    "\n",
    "p_storage = network.storage_units_t.p.sum(axis=1)\n",
    "state_of_charge = network.storage_units_t.state_of_charge.sum(axis=1)\n",
    "p_storage.plot(label=\"Pumped hydro dispatch\", ax=ax, linewidth=3)\n",
    "state_of_charge.plot(label=\"State of charge\", ax=ax, linewidth=3)\n",
    "\n",
    "ax.legend()\n",
    "ax.grid()\n",
    "ax.set_ylabel(\"MWh\")\n",
    "ax.set_xlabel(\"\")"
   ]
  },
  {
   "cell_type": "markdown",
   "metadata": {},
   "source": [
    "## Plotting line loading"
   ]
  },
  {
   "cell_type": "markdown",
   "metadata": {},
   "source": [
    "Look at the line loading stats and graph..."
   ]
  },
  {
   "cell_type": "code",
   "execution_count": null,
   "metadata": {},
   "outputs": [],
   "source": [
    "now = network.snapshots[139]\n",
    "\n",
    "print(\"With the linear load flow, there is the following per unit loading:\")\n",
    "loading = network.lines_t.p0.loc[now] / network.lines.s_nom\n",
    "loading.describe()"
   ]
  },
  {
   "cell_type": "code",
   "execution_count": null,
   "metadata": {},
   "outputs": [],
   "source": [
    "fig, ax = plt.subplots(1, 1, subplot_kw={\"projection\": ccrs.PlateCarree()})\n",
    "fig.set_size_inches(15, 17)\n",
    "\n",
    "network.plot(ax=ax, line_colors=abs(loading), line_cmap=plt.cm.jet, title=\"Line loading\")"
   ]
  },
  {
   "cell_type": "markdown",
   "metadata": {},
   "source": [
    "## Plotting locational marginal prices"
   ]
  },
  {
   "cell_type": "code",
   "execution_count": null,
   "metadata": {},
   "outputs": [],
   "source": [
    "fig, ax = plt.subplots(1, 1, subplot_kw={\"projection\": ccrs.PlateCarree()})\n",
    "fig.set_size_inches(20, 10)\n",
    "\n",
    "network.plot(ax=ax, line_widths=pd.Series(0.5, network.lines.index))\n",
    "plt.hexbin(network.buses.x, network.buses.y,\n",
    "           gridsize=20,\n",
    "           C=network.buses_t.marginal_price.loc[now],\n",
    "           cmap=plt.cm.jet)\n",
    "\n",
    "# for some reason the colorbar only works with graphs plt.plot\n",
    "# and must be attached plt.colorbar\n",
    "\n",
    "cb = plt.colorbar()\n",
    "cb.set_label('Locational Marginal Price (£/MWh)')"
   ]
  },
  {
   "cell_type": "code",
   "execution_count": null,
   "metadata": {},
   "outputs": [],
   "source": [
    "network.buses_t.marginal_price"
   ]
  },
  {
   "cell_type": "markdown",
   "metadata": {},
   "source": [
    "## Plotting curtailment"
   ]
  },
  {
   "cell_type": "code",
   "execution_count": null,
   "metadata": {},
   "outputs": [],
   "source": [
    "carrier = \"Wind Onshore\"\n",
    "\n",
    "capacity = network.generators.groupby(\"carrier\").sum().at[carrier, \"p_nom\"]\n",
    "p_available = network.generators_t.p_max_pu.multiply(network.generators[\"p_nom\"])\n",
    "p_available_by_carrier = p_available.groupby(network.generators.carrier, axis=1).sum()\n",
    "p_curtailed_by_carrier = p_available_by_carrier - p_by_carrier\n",
    "p_df = pd.DataFrame({carrier + \" available\": p_available_by_carrier[carrier],\n",
    "                     carrier + \" dispatched\": p_by_carrier[carrier],\n",
    "                     carrier + \" curtailed\": p_curtailed_by_carrier[carrier]})\n",
    "\n",
    "p_df[carrier + \" capacity\"] = capacity\n",
    "p_df[\"Wind Onshore curtailed\"][p_df[\"Wind Onshore curtailed\"] < 0.] = 0.\n",
    "fig, ax = plt.subplots(1, 1)\n",
    "fig.set_size_inches(15,10)\n",
    "p_df[[carrier + \" dispatched\", carrier + \" curtailed\"]].plot(kind=\"area\", ax=ax, linewidth=0)\n",
    "\n",
    "ax.set_xlabel(\"\")\n",
    "ax.set_ylabel(\"Power [MW]\")\n",
    "ax.legend()"
   ]
  },
  {
   "cell_type": "code",
   "execution_count": null,
   "metadata": {},
   "outputs": [],
   "source": []
  },
  {
   "cell_type": "code",
   "execution_count": null,
   "metadata": {},
   "outputs": [],
   "source": []
  },
  {
   "cell_type": "code",
   "execution_count": null,
   "metadata": {},
   "outputs": [],
   "source": []
  },
  {
   "cell_type": "code",
   "execution_count": null,
   "metadata": {},
   "outputs": [],
   "source": []
  },
  {
   "cell_type": "code",
   "execution_count": null,
   "metadata": {},
   "outputs": [],
   "source": []
  },
  {
   "cell_type": "code",
   "execution_count": null,
   "metadata": {},
   "outputs": [],
   "source": []
  }
 ],
 "metadata": {
  "interpreter": {
   "hash": "f9bef397ef5e7b2d367b3209d88d895d60e5cf9367d4dd0bd56847f579153646"
  },
  "kernelspec": {
   "display_name": "PyPSA-GB",
   "language": "python",
   "name": "pypsa-gb"
  },
  "language_info": {
   "codemirror_mode": {
    "name": "ipython",
    "version": 3
   },
   "file_extension": ".py",
   "mimetype": "text/x-python",
   "name": "python",
   "nbconvert_exporter": "python",
   "pygments_lexer": "ipython3",
   "version": "3.8.5"
  }
 },
 "nbformat": 4,
 "nbformat_minor": 4
}
